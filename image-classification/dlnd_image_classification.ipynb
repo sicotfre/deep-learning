{
 "cells": [
  {
   "cell_type": "markdown",
   "metadata": {
    "collapsed": true
   },
   "source": [
    "# Image Classification\n",
    "In this project, you'll classify images from the [CIFAR-10 dataset](https://www.cs.toronto.edu/~kriz/cifar.html).  The dataset consists of airplanes, dogs, cats, and other objects. You'll preprocess the images, then train a convolutional neural network on all the samples. The images need to be normalized and the labels need to be one-hot encoded.  You'll get to apply what you learned and build a convolutional, max pooling, dropout, and fully connected layers.  At the end, you'll get to see your neural network's predictions on the sample images.\n",
    "## Get the Data\n",
    "Run the following cell to download the [CIFAR-10 dataset for python](https://www.cs.toronto.edu/~kriz/cifar-10-python.tar.gz)."
   ]
  },
  {
   "cell_type": "code",
   "execution_count": 1,
   "metadata": {},
   "outputs": [
    {
     "name": "stdout",
     "output_type": "stream",
     "text": [
      "All files found!\n"
     ]
    }
   ],
   "source": [
    "\"\"\"\n",
    "DON'T MODIFY ANYTHING IN THIS CELL THAT IS BELOW THIS LINE\n",
    "\"\"\"\n",
    "from urllib.request import urlretrieve\n",
    "from os.path import isfile, isdir\n",
    "from tqdm import tqdm\n",
    "import problem_unittests as tests\n",
    "import tarfile\n",
    "\n",
    "cifar10_dataset_folder_path = 'cifar-10-batches-py'\n",
    "\n",
    "# Use Floyd's cifar-10 dataset if present\n",
    "floyd_cifar10_location = '/input/cifar-10/python.tar.gz'\n",
    "if isfile(floyd_cifar10_location):\n",
    "    tar_gz_path = floyd_cifar10_location\n",
    "else:\n",
    "    tar_gz_path = 'cifar-10-python.tar.gz'\n",
    "\n",
    "class DLProgress(tqdm):\n",
    "    last_block = 0\n",
    "\n",
    "    def hook(self, block_num=1, block_size=1, total_size=None):\n",
    "        self.total = total_size\n",
    "        self.update((block_num - self.last_block) * block_size)\n",
    "        self.last_block = block_num\n",
    "\n",
    "if not isfile(tar_gz_path):\n",
    "    with DLProgress(unit='B', unit_scale=True, miniters=1, desc='CIFAR-10 Dataset') as pbar:\n",
    "        urlretrieve(\n",
    "            'https://www.cs.toronto.edu/~kriz/cifar-10-python.tar.gz',\n",
    "            tar_gz_path,\n",
    "            pbar.hook)\n",
    "\n",
    "if not isdir(cifar10_dataset_folder_path):\n",
    "    with tarfile.open(tar_gz_path) as tar:\n",
    "        tar.extractall()\n",
    "        tar.close()\n",
    "\n",
    "\n",
    "tests.test_folder_path(cifar10_dataset_folder_path)"
   ]
  },
  {
   "cell_type": "markdown",
   "metadata": {},
   "source": [
    "## Explore the Data\n",
    "The dataset is broken into batches to prevent your machine from running out of memory.  The CIFAR-10 dataset consists of 5 batches, named `data_batch_1`, `data_batch_2`, etc.. Each batch contains the labels and images that are one of the following:\n",
    "* airplane\n",
    "* automobile\n",
    "* bird\n",
    "* cat\n",
    "* deer\n",
    "* dog\n",
    "* frog\n",
    "* horse\n",
    "* ship\n",
    "* truck\n",
    "\n",
    "Understanding a dataset is part of making predictions on the data.  Play around with the code cell below by changing the `batch_id` and `sample_id`. The `batch_id` is the id for a batch (1-5). The `sample_id` is the id for a image and label pair in the batch.\n",
    "\n",
    "Ask yourself \"What are all possible labels?\", \"What is the range of values for the image data?\", \"Are the labels in order or random?\".  Answers to questions like these will help you preprocess the data and end up with better predictions."
   ]
  },
  {
   "cell_type": "code",
   "execution_count": 2,
   "metadata": {},
   "outputs": [
    {
     "name": "stdout",
     "output_type": "stream",
     "text": [
      "\n",
      "Stats of batch 3:\n",
      "Samples: 10000\n",
      "Label Counts: {0: 994, 1: 1042, 2: 965, 3: 997, 4: 990, 5: 1029, 6: 978, 7: 1015, 8: 961, 9: 1029}\n",
      "First 20 Labels: [8, 5, 0, 6, 9, 2, 8, 3, 6, 2, 7, 4, 6, 9, 0, 0, 7, 3, 7, 2]\n",
      "\n",
      "Example of Image 7:\n",
      "Image - Min Value: 12 Max Value: 254\n",
      "Image - Shape: (32, 32, 3)\n",
      "Label - Label Id: 3 Name: cat\n"
     ]
    },
    {
     "data": {
      "image/png": "[encoded data removed]",
      "text/plain": [
       "<matplotlib.figure.Figure at 0xc380278>"
      ]
     },
     "metadata": {
      "image/png": {
       "height": 250,
       "width": 253
      }
     },
     "output_type": "display_data"
    }
   ],
   "source": [
    "%matplotlib inline\n",
    "%config InlineBackend.figure_format = 'retina'\n",
    "\n",
    "import helper\n",
    "import numpy as np\n",
    "\n",
    "# Explore the dataset\n",
    "batch_id = 3\n",
    "sample_id = 7\n",
    "helper.display_stats(cifar10_dataset_folder_path, batch_id, sample_id)"
   ]
  },
  {
   "cell_type": "markdown",
   "metadata": {},
   "source": [
    "Each one of the 10 labels (cat, dog, automobile..) is mapped to a single digit (from 0 to 9). The distribution of labels in batch 3 seems almost uniform so that we can use a signel batch for testing the training.\n",
    "\n",
    "The min value of pixel is 12 and max is 254. I will assume that each layer is encoded in one byte with values ranging from 0 to 255."
   ]
  },
  {
   "cell_type": "markdown",
   "metadata": {},
   "source": [
    "## Implement Preprocess Functions\n",
    "### Normalize\n",
    "In the cell below, implement the `normalize` function to take in image data, `x`, and return it as a normalized Numpy array. The values should be in the range of 0 to 1, inclusive.  The return object should be the same shape as `x`."
   ]
  },
  {
   "cell_type": "code",
   "execution_count": 3,
   "metadata": {},
   "outputs": [
    {
     "name": "stdout",
     "output_type": "stream",
     "text": [
      "Tests Passed\n"
     ]
    }
   ],
   "source": [
    "def normalize(x):\n",
    "    \"\"\"\n",
    "    Normalize a list of sample image data in the range of 0 to 1\n",
    "    : x: List of image data.  The image shape is (32, 32, 3)\n",
    "    : return: Numpy array of normalize data\n",
    "    \"\"\"\n",
    "    \n",
    "    # each layer (RGB) is encoded from 0 to 255. So dividing by 255.0 will make it into the [0-1 range] \n",
    "    # and same normalization for evey batch/minibatch\n",
    "    return x / 255.0\n",
    "\n",
    "#     could also normalize by the min/max range of current batch but prefer to have same noramilzation for every batch\n",
    "#     maximum = np.max(x)\n",
    "#     minimum = np.min(x)\n",
    "#     return (x - minimum) / (maximum - minimum)\n",
    "\n",
    "\n",
    "\"\"\"\n",
    "DON'T MODIFY ANYTHING IN THIS CELL THAT IS BELOW THIS LINE\n",
    "\"\"\"\n",
    "tests.test_normalize(normalize)"
   ]
  },
  {
   "cell_type": "markdown",
   "metadata": {},
   "source": [
    "### One-hot encode\n",
    "Just like the previous code cell, you'll be implementing a function for preprocessing.  This time, you'll implement the `one_hot_encode` function. The input, `x`, are a list of labels.  Implement the function to return the list of labels as One-Hot encoded Numpy array.  The possible values for labels are 0 to 9. The one-hot encoding function should return the same encoding for each value between each call to `one_hot_encode`.  Make sure to save the map of encodings outside the function.\n",
    "\n",
    "Hint: Don't reinvent the wheel."
   ]
  },
  {
   "cell_type": "code",
   "execution_count": 4,
   "metadata": {},
   "outputs": [
    {
     "name": "stdout",
     "output_type": "stream",
     "text": [
      "Tests Passed\n"
     ]
    }
   ],
   "source": [
    "def one_hot_encode(x):\n",
    "    \"\"\"\n",
    "    One hot encode a list of sample labels. Return a one-hot encoded vector for each label.\n",
    "    : x: List of sample Labels\n",
    "    : return: Numpy array of one-hot encoded labels\n",
    "    \"\"\"\n",
    "    # create a matrix of zeros of size (nb_inputs, 10)\n",
    "    ohe = np.zeros((len(x), 10))\n",
    "    \n",
    "    # for each input (row), set the given column (label) to 1\n",
    "    for idx, elem in enumerate(x):\n",
    "        ohe[idx, elem] = 1\n",
    "        \n",
    "    return ohe\n",
    "\n",
    "\n",
    "\"\"\"\n",
    "DON'T MODIFY ANYTHING IN THIS CELL THAT IS BELOW THIS LINE\n",
    "\"\"\"\n",
    "tests.test_one_hot_encode(one_hot_encode)"
   ]
  },
  {
   "cell_type": "markdown",
   "metadata": {},
   "source": [
    "### Randomize Data\n",
    "As you saw from exploring the data above, the order of the samples are randomized.  It doesn't hurt to randomize it again, but you don't need to for this dataset."
   ]
  },
  {
   "cell_type": "markdown",
   "metadata": {},
   "source": [
    "## Preprocess all the data and save it\n",
    "Running the code cell below will preprocess all the CIFAR-10 data and save it to file. The code below also uses 10% of the training data for validation."
   ]
  },
  {
   "cell_type": "code",
   "execution_count": 5,
   "metadata": {},
   "outputs": [],
   "source": [
    "\"\"\"\n",
    "DON'T MODIFY ANYTHING IN THIS CELL\n",
    "\"\"\"\n",
    "# Preprocess Training, Validation, and Testing Data\n",
    "helper.preprocess_and_save_data(cifar10_dataset_folder_path, normalize, one_hot_encode)"
   ]
  },
  {
   "cell_type": "markdown",
   "metadata": {},
   "source": [
    "# Check Point\n",
    "This is your first checkpoint.  If you ever decide to come back to this notebook or have to restart the notebook, you can start from here.  The preprocessed data has been saved to disk."
   ]
  },
  {
   "cell_type": "code",
   "execution_count": 6,
   "metadata": {
    "collapsed": true
   },
   "outputs": [],
   "source": [
    "\"\"\"\n",
    "DON'T MODIFY ANYTHING IN THIS CELL\n",
    "\"\"\"\n",
    "import pickle\n",
    "import problem_unittests as tests\n",
    "import helper\n",
    "\n",
    "# Load the Preprocessed Validation data\n",
    "valid_features, valid_labels = pickle.load(open('preprocess_validation.p', mode='rb'))"
   ]
  },
  {
   "cell_type": "markdown",
   "metadata": {},
   "source": [
    "## Build the network\n",
    "For the neural network, you'll build each layer into a function.  Most of the code you've seen has been outside of functions. To test your code more thoroughly, we require that you put each layer in a function.  This allows us to give you better feedback and test for simple mistakes using our unittests before you submit your project.\n",
    "\n",
    ">**Note:** If you're finding it hard to dedicate enough time for this course each week, we've provided a small shortcut to this part of the project. In the next couple of problems, you'll have the option to use classes from the [TensorFlow Layers](https://www.tensorflow.org/api_docs/python/tf/layers) or [TensorFlow Layers (contrib)](https://www.tensorflow.org/api_guides/python/contrib.layers) packages to build each layer, except the layers you build in the \"Convolutional and Max Pooling Layer\" section.  TF Layers is similar to Keras's and TFLearn's abstraction to layers, so it's easy to pickup.\n",
    "\n",
    ">However, if you would like to get the most out of this course, try to solve all the problems _without_ using anything from the TF Layers packages. You **can** still use classes from other packages that happen to have the same name as ones you find in TF Layers! For example, instead of using the TF Layers version of the `conv2d` class, [tf.layers.conv2d](https://www.tensorflow.org/api_docs/python/tf/layers/conv2d), you would want to use the TF Neural Network version of `conv2d`, [tf.nn.conv2d](https://www.tensorflow.org/api_docs/python/tf/nn/conv2d). \n",
    "\n",
    "Let's begin!\n",
    "\n",
    "### Input\n",
    "The neural network needs to read the image data, one-hot encoded labels, and dropout keep probability. Implement the following functions\n",
    "* Implement `neural_net_image_input`\n",
    " * Return a [TF Placeholder](https://www.tensorflow.org/api_docs/python/tf/placeholder)\n",
    " * Set the shape using `image_shape` with batch size set to `None`.\n",
    " * Name the TensorFlow placeholder \"x\" using the TensorFlow `name` parameter in the [TF Placeholder](https://www.tensorflow.org/api_docs/python/tf/placeholder).\n",
    "* Implement `neural_net_label_input`\n",
    " * Return a [TF Placeholder](https://www.tensorflow.org/api_docs/python/tf/placeholder)\n",
    " * Set the shape using `n_classes` with batch size set to `None`.\n",
    " * Name the TensorFlow placeholder \"y\" using the TensorFlow `name` parameter in the [TF Placeholder](https://www.tensorflow.org/api_docs/python/tf/placeholder).\n",
    "* Implement `neural_net_keep_prob_input`\n",
    " * Return a [TF Placeholder](https://www.tensorflow.org/api_docs/python/tf/placeholder) for dropout keep probability.\n",
    " * Name the TensorFlow placeholder \"keep_prob\" using the TensorFlow `name` parameter in the [TF Placeholder](https://www.tensorflow.org/api_docs/python/tf/placeholder).\n",
    "\n",
    "These names will be used at the end of the project to load your saved model.\n",
    "\n",
    "Note: `None` for shapes in TensorFlow allow for a dynamic size."
   ]
  },
  {
   "cell_type": "code",
   "execution_count": 7,
   "metadata": {},
   "outputs": [
    {
     "name": "stdout",
     "output_type": "stream",
     "text": [
      "Image Input Tests Passed.\n",
      "Label Input Tests Passed.\n",
      "Keep Prob Tests Passed.\n"
     ]
    }
   ],
   "source": [
    "import tensorflow as tf\n",
    "\n",
    "def neural_net_image_input(image_shape):\n",
    "    \"\"\"\n",
    "    Return a Tensor for a batch of image input\n",
    "    : image_shape: Shape of the images\n",
    "    : return: Tensor for image input.\n",
    "    \"\"\"\n",
    "    \n",
    "    # get image size and depth\n",
    "    image_height = image_shape[0]\n",
    "    image_width = image_shape[1]\n",
    "    color_channels = image_shape[2]\n",
    "\n",
    "    # return placeholder with None for first minibatch dimension\n",
    "    return tf.placeholder(tf.float32, \n",
    "                          shape=[None, image_height, image_width, color_channels], \n",
    "                          name=\"x\")\n",
    "\n",
    "\n",
    "def neural_net_label_input(n_classes):\n",
    "    \"\"\"\n",
    "    Return a Tensor for a batch of label input\n",
    "    : n_classes: Number of classes\n",
    "    : return: Tensor for label input.\n",
    "    \"\"\"\n",
    "    # return palceholder with n_classes (10) outputs\n",
    "    return tf.placeholder(tf.float32, \n",
    "                          shape=[None, n_classes], \n",
    "                          name=\"y\")\n",
    "\n",
    "\n",
    "def neural_net_keep_prob_input():\n",
    "    \"\"\"\n",
    "    Return a Tensor for keep probability\n",
    "    : return: Tensor for keep probability.\n",
    "    \"\"\"\n",
    "    # placeholder of float for keep prob\n",
    "    return tf.placeholder(tf.float32, name=\"keep_prob\")\n",
    "\n",
    "\n",
    "\"\"\"\n",
    "DON'T MODIFY ANYTHING IN THIS CELL THAT IS BELOW THIS LINE\n",
    "\"\"\"\n",
    "tf.reset_default_graph()\n",
    "tests.test_nn_image_inputs(neural_net_image_input)\n",
    "tests.test_nn_label_inputs(neural_net_label_input)\n",
    "tests.test_nn_keep_prob_inputs(neural_net_keep_prob_input)"
   ]
  },
  {
   "cell_type": "markdown",
   "metadata": {},
   "source": [
    "### Convolution and Max Pooling Layer\n",
    "Convolution layers have a lot of success with images. For this code cell, you should implement the function `conv2d_maxpool` to apply convolution then max pooling:\n",
    "* Create the weight and bias using `conv_ksize`, `conv_num_outputs` and the shape of `x_tensor`.\n",
    "* Apply a convolution to `x_tensor` using weight and `conv_strides`.\n",
    " * We recommend you use same padding, but you're welcome to use any padding.\n",
    "* Add bias\n",
    "* Add a nonlinear activation to the convolution.\n",
    "* Apply Max Pooling using `pool_ksize` and `pool_strides`.\n",
    " * We recommend you use same padding, but you're welcome to use any padding.\n",
    "\n",
    "**Note:** You **can't** use [TensorFlow Layers](https://www.tensorflow.org/api_docs/python/tf/layers) or [TensorFlow Layers (contrib)](https://www.tensorflow.org/api_guides/python/contrib.layers) for **this** layer, but you can still use TensorFlow's [Neural Network](https://www.tensorflow.org/api_docs/python/tf/nn) package. You may still use the shortcut option for all the **other** layers."
   ]
  },
  {
   "cell_type": "code",
   "execution_count": 8,
   "metadata": {},
   "outputs": [
    {
     "name": "stdout",
     "output_type": "stream",
     "text": [
      "Tests Passed\n"
     ]
    }
   ],
   "source": [
    "def conv2d_maxpool(x_tensor, conv_num_outputs, conv_ksize, conv_strides, pool_ksize, pool_strides):\n",
    "    \"\"\"\n",
    "    Apply convolution then max pooling to x_tensor\n",
    "    :param x_tensor: TensorFlow Tensor\n",
    "    :param conv_num_outputs: Number of outputs for the convolutional layer\n",
    "    :param conv_ksize: kernal size 2-D Tuple for the convolutional layer\n",
    "    :param conv_strides: Stride 2-D Tuple for convolution\n",
    "    :param pool_ksize: kernal size 2-D Tuple for pool\n",
    "    :param pool_strides: Stride 2-D Tuple for pool\n",
    "    : return: A tensor that represents convolution and max pooling of x_tensor\n",
    "    \"\"\"\n",
    "    # create weights and bias variable\n",
    "    # I used a normal distribution with a low standard deviation. \n",
    "    # This happens to be paramaeter with the most impact on the convergence.\n",
    "    filter_size = [conv_ksize[0],  # filter width\n",
    "                   conv_ksize[1],  # filter height\n",
    "                   int(x_tensor.shape[3]),  # number of channels, depth\n",
    "                   conv_num_outputs]  # number of maps\n",
    "    weights = tf.Variable(tf.random_normal(filter_size, stddev=0.1))\n",
    "    bias = tf.Variable(tf.zeros(conv_num_outputs))  # bias initialize to 0\n",
    "    \n",
    "    # convolution and bias\n",
    "    res_conv_2d = tf.nn.conv2d(x_tensor, weights, \n",
    "                               strides=[1, conv_strides[0], conv_strides[1], 1], \n",
    "                               padding='SAME')\n",
    "    conv_plus_bias = tf.nn.bias_add(res_conv_2d, bias)\n",
    "\n",
    "    \n",
    "    # non-linear activation function\n",
    "    activation = tf.nn.relu(conv_plus_bias)  # relu 6 https://www.tensorflow.org/api_docs/python/tf/nn/relu6\n",
    "    \n",
    "    # max pooling\n",
    "    return tf.nn.max_pool(activation, \n",
    "                          ksize=[1, pool_ksize[0], pool_ksize[1], 1],\n",
    "                          strides=[1, pool_strides[0], pool_strides[1], 1], \n",
    "                          padding='SAME')\n",
    "    \n",
    "    \n",
    "\"\"\"\n",
    "DON'T MODIFY ANYTHING IN THIS CELL THAT IS BELOW THIS LINE\n",
    "\"\"\"\n",
    "tests.test_con_pool(conv2d_maxpool)"
   ]
  },
  {
   "cell_type": "markdown",
   "metadata": {},
   "source": [
    "### Flatten Layer\n",
    "Implement the `flatten` function to change the dimension of `x_tensor` from a 4-D tensor to a 2-D tensor.  The output should be the shape (*Batch Size*, *Flattened Image Size*). Shortcut option: you can use classes from the [TensorFlow Layers](https://www.tensorflow.org/api_docs/python/tf/layers) or [TensorFlow Layers (contrib)](https://www.tensorflow.org/api_guides/python/contrib.layers) packages for this layer. For more of a challenge, only use other TensorFlow packages."
   ]
  },
  {
   "cell_type": "code",
   "execution_count": 9,
   "metadata": {},
   "outputs": [
    {
     "name": "stdout",
     "output_type": "stream",
     "text": [
      "Tests Passed\n"
     ]
    }
   ],
   "source": [
    "def flatten(x_tensor):\n",
    "    \"\"\"\n",
    "    Flatten x_tensor to (Batch Size, Flattened Image Size)\n",
    "    : x_tensor: A tensor of size (Batch Size, ...), where ... are the image dimensions.\n",
    "    : return: A tensor of size (Batch Size, Flattened Image Size).\n",
    "    \"\"\"\n",
    "    \n",
    "    # compute number of nodes\n",
    "    x_tensor_shape = x_tensor.get_shape().as_list()\n",
    "    feature_size = x_tensor_shape[1] * x_tensor_shape[2] * x_tensor_shape[3]\n",
    "    \n",
    "    # reshape with -1 for minibatch size\n",
    "    return tf.reshape(x_tensor, [-1, feature_size])\n",
    "\n",
    "\n",
    "\"\"\"\n",
    "DON'T MODIFY ANYTHING IN THIS CELL THAT IS BELOW THIS LINE\n",
    "\"\"\"\n",
    "tests.test_flatten(flatten)"
   ]
  },
  {
   "cell_type": "markdown",
   "metadata": {},
   "source": [
    "### Fully-Connected Layer\n",
    "Implement the `fully_conn` function to apply a fully connected layer to `x_tensor` with the shape (*Batch Size*, *num_outputs*). Shortcut option: you can use classes from the [TensorFlow Layers](https://www.tensorflow.org/api_docs/python/tf/layers) or [TensorFlow Layers (contrib)](https://www.tensorflow.org/api_guides/python/contrib.layers) packages for this layer. For more of a challenge, only use other TensorFlow packages."
   ]
  },
  {
   "cell_type": "code",
   "execution_count": 10,
   "metadata": {},
   "outputs": [
    {
     "name": "stdout",
     "output_type": "stream",
     "text": [
      "Tests Passed\n"
     ]
    }
   ],
   "source": [
    "def fully_conn(x_tensor, num_outputs):\n",
    "    \"\"\"\n",
    "    Apply a fully connected layer to x_tensor using weight and bias\n",
    "    : x_tensor: A 2-D tensor where the first dimension is batch size.\n",
    "    : num_outputs: The number of output that the new tensor should be.\n",
    "    : return: A 2-D tensor where the second dimension is num_outputs.\n",
    "    \"\"\"\n",
    "    # compute regular xW + b, again a standard deviation of 0.1\n",
    "    nb_inputs = x_tensor.get_shape().as_list()[1]\n",
    "    weights_fcl = tf.Variable(tf.random_normal([nb_inputs, num_outputs], stddev=0.1))\n",
    "    bias_fcl =  tf.Variable(tf.zeros(num_outputs))\n",
    "    \n",
    "    # apply non-linear function\n",
    "    return tf.nn.relu(tf.add(tf.matmul(x_tensor, weights_fcl), bias_fcl))\n",
    "\n",
    "\n",
    "\"\"\"\n",
    "DON'T MODIFY ANYTHING IN THIS CELL THAT IS BELOW THIS LINE\n",
    "\"\"\"\n",
    "tests.test_fully_conn(fully_conn)"
   ]
  },
  {
   "cell_type": "markdown",
   "metadata": {},
   "source": [
    "### Output Layer\n",
    "Implement the `output` function to apply a fully connected layer to `x_tensor` with the shape (*Batch Size*, *num_outputs*). Shortcut option: you can use classes from the [TensorFlow Layers](https://www.tensorflow.org/api_docs/python/tf/layers) or [TensorFlow Layers (contrib)](https://www.tensorflow.org/api_guides/python/contrib.layers) packages for this layer. For more of a challenge, only use other TensorFlow packages.\n",
    "\n",
    "**Note:** Activation, softmax, or cross entropy should **not** be applied to this."
   ]
  },
  {
   "cell_type": "code",
   "execution_count": 11,
   "metadata": {},
   "outputs": [
    {
     "name": "stdout",
     "output_type": "stream",
     "text": [
      "Tests Passed\n"
     ]
    }
   ],
   "source": [
    "def output(x_tensor, num_outputs):\n",
    "    \"\"\"\n",
    "    Apply a output layer to x_tensor using weight and bias\n",
    "    : x_tensor: A 2-D tensor where the first dimension is batch size.\n",
    "    : num_outputs: The number of output that the new tensor should be.\n",
    "    : return: A 2-D tensor where the second dimension is num_outputs.\n",
    "    \"\"\"\n",
    "    # return regulat xW + b (no activation)\n",
    "    nb_inputs = x_tensor.get_shape().as_list()[1]\n",
    "    weights_out = tf.Variable(tf.random_normal([nb_inputs, num_outputs]))\n",
    "    bias_out =  tf.Variable(tf.zeros(num_outputs))\n",
    "    \n",
    "    return tf.add(tf.matmul(x_tensor, weights_out), bias_out)\n",
    "\n",
    "\n",
    "\"\"\"\n",
    "DON'T MODIFY ANYTHING IN THIS CELL THAT IS BELOW THIS LINE\n",
    "\"\"\"\n",
    "tests.test_output(output)"
   ]
  },
  {
   "cell_type": "markdown",
   "metadata": {},
   "source": [
    "### Create Convolutional Model\n",
    "Implement the function `conv_net` to create a convolutional neural network model. The function takes in a batch of images, `x`, and outputs logits.  Use the layers you created above to create this model:\n",
    "\n",
    "- I tested several filter size and stated with 5x5 like in the lectures but it seems to big. 3x3 converges a lot better.\n",
    "- I tested 2 normalization (either by / 255 or by normalizing by min/max of each minibatch). The latter worked slightly better but I prefered to have the same normalization over all images\n",
    "- In this CNN there is one convolutional layer and 2 fully connected layer with dropout at the last one"
   ]
  },
  {
   "cell_type": "code",
   "execution_count": 12,
   "metadata": {},
   "outputs": [
    {
     "name": "stdout",
     "output_type": "stream",
     "text": [
      "Neural Network Built!\n"
     ]
    }
   ],
   "source": [
    "def conv_net(x, keep_prob):\n",
    "    \"\"\"\n",
    "    Create a convolutional neural network model\n",
    "    : x: Placeholder tensor that holds image data.\n",
    "    : keep_prob: Placeholder tensor that hold dropout keep probability.\n",
    "    : return: Tensor that represents logits\n",
    "    \"\"\"\n",
    "    # TODO: Apply 1, 2, or 3 Convolution and Max Pool layers\n",
    "    c_mxpl_1 = conv2d_maxpool(x, 64, [3, 3], [1, 1] , [3, 3], [2, 2])\n",
    "\n",
    "    # TODO: Apply a Flatten Layer\n",
    "    f_l = flatten(c_mxpl_1)\n",
    "    \n",
    "    # TODO: Apply 1, 2, or 3 Fully Connected Layers\n",
    "    fc_1 = fully_conn(f_l, 384)   \n",
    "    fc_2 = fully_conn(fc_1, 192)\n",
    "    fc_2 = tf.nn.dropout(fc_2, keep_prob=keep_prob)\n",
    "    \n",
    "    # TODO: Apply an Output Layer\n",
    "    out = output(fc_2, 10)   \n",
    "    \n",
    "    # TODO: return output\n",
    "    return out\n",
    "\n",
    "\n",
    "\"\"\"\n",
    "DON'T MODIFY ANYTHING IN THIS CELL THAT IS BELOW THIS LINE\n",
    "\"\"\"\n",
    "\n",
    "##############################\n",
    "## Build the Neural Network ##\n",
    "##############################\n",
    "\n",
    "# Remove previous weights, bias, inputs, etc..\n",
    "tf.reset_default_graph()\n",
    "\n",
    "# Inputs\n",
    "x = neural_net_image_input((32, 32, 3))\n",
    "y = neural_net_label_input(10)\n",
    "keep_prob = neural_net_keep_prob_input()\n",
    "\n",
    "# Model\n",
    "logits = conv_net(x, keep_prob)\n",
    "\n",
    "# Name logits Tensor, so that is can be loaded from disk after training\n",
    "logits = tf.identity(logits, name='logits')\n",
    "\n",
    "# Loss and Optimizer\n",
    "cost = tf.reduce_mean(tf.nn.softmax_cross_entropy_with_logits(logits=logits, labels=y))\n",
    "optimizer = tf.train.AdamOptimizer().minimize(cost)\n",
    "\n",
    "# Accuracy\n",
    "correct_pred = tf.equal(tf.argmax(logits, 1), tf.argmax(y, 1))\n",
    "accuracy = tf.reduce_mean(tf.cast(correct_pred, tf.float32), name='accuracy')\n",
    "\n",
    "tests.test_conv_net(conv_net)"
   ]
  },
  {
   "cell_type": "markdown",
   "metadata": {},
   "source": [
    "## Train the Neural Network\n",
    "### Single Optimization\n",
    "Implement the function `train_neural_network` to do a single optimization.  The optimization should use `optimizer` to optimize in `session` with a `feed_dict` of the following:\n",
    "* `x` for image input\n",
    "* `y` for labels\n",
    "* `keep_prob` for keep probability for dropout\n",
    "\n",
    "This function will be called for each batch, so `tf.global_variables_initializer()` has already been called.\n",
    "\n",
    "Note: Nothing needs to be returned. This function is only optimizing the neural network."
   ]
  },
  {
   "cell_type": "code",
   "execution_count": 13,
   "metadata": {},
   "outputs": [
    {
     "name": "stdout",
     "output_type": "stream",
     "text": [
      "Tests Passed\n"
     ]
    }
   ],
   "source": [
    "def train_neural_network(session, optimizer, keep_probability, feature_batch, label_batch):\n",
    "    \"\"\"\n",
    "    Optimize the session on a batch of images and labels\n",
    "    : session: Current TensorFlow session\n",
    "    : optimizer: TensorFlow optimizer function\n",
    "    : keep_probability: keep probability\n",
    "    : feature_batch: Batch of Numpy image data\n",
    "    : label_batch: Batch of Numpy label data\n",
    "    \"\"\"\n",
    "    session.run(optimizer, feed_dict={\n",
    "        x: feature_batch,\n",
    "        y: label_batch,\n",
    "        keep_prob: keep_probability})    \n",
    "\n",
    "\n",
    "\"\"\"\n",
    "DON'T MODIFY ANYTHING IN THIS CELL THAT IS BELOW THIS LINE\n",
    "\"\"\"\n",
    "tests.test_train_nn(train_neural_network)"
   ]
  },
  {
   "cell_type": "markdown",
   "metadata": {},
   "source": [
    "### Show Stats\n",
    "Implement the function `print_stats` to print loss and validation accuracy.  Use the global variables `valid_features` and `valid_labels` to calculate validation accuracy.  Use a keep probability of `1.0` to calculate the loss and validation accuracy."
   ]
  },
  {
   "cell_type": "code",
   "execution_count": 14,
   "metadata": {
    "collapsed": true
   },
   "outputs": [],
   "source": [
    "def print_stats(session, feature_batch, label_batch, cost, accuracy):\n",
    "    \"\"\"\n",
    "    Print information about loss and validation accuracy\n",
    "    : session: Current TensorFlow session\n",
    "    : feature_batch: Batch of Numpy image data\n",
    "    : label_batch: Batch of Numpy label data\n",
    "    : cost: TensorFlow cost function\n",
    "    : accuracy: TensorFlow accuracy function\n",
    "    \"\"\"\n",
    "    global valid_features, valid_labels\n",
    "    \n",
    "    # run cost and accuracy function with feed_dict\n",
    "    loss = sess.run(cost, feed_dict={\n",
    "        x: feature_batch,\n",
    "        y: label_batch,\n",
    "        keep_prob: 1.})\n",
    "    valid_acc = sess.run(accuracy, feed_dict={\n",
    "        x: valid_features,\n",
    "        y: valid_labels,\n",
    "        keep_prob: 1.})\n",
    "    \n",
    "    # print loss and accuracy\n",
    "    print('Loss: ', loss, 'Valdiation accuracy: ', valid_acc)"
   ]
  },
  {
   "cell_type": "markdown",
   "metadata": {},
   "source": [
    "### Hyperparameters\n",
    "Tune the following parameters:\n",
    "* Set `epochs` to the number of iterations until the network stops learning or start overfitting\n",
    "* Set `batch_size` to the highest number that your machine has memory for.  Most people set them to common sizes of memory:\n",
    " * 64\n",
    " * 128\n",
    " * 256\n",
    " * ...\n",
    "* Set `keep_probability` to the probability of keeping a node using dropout"
   ]
  },
  {
   "cell_type": "code",
   "execution_count": 15,
   "metadata": {
    "collapsed": true
   },
   "outputs": [],
   "source": [
    "# TODO: Tune Parameters\n",
    "epochs = 50\n",
    "\n",
    "# as a batch is made of 10,000 images, I will make mini-batch of 1,000\n",
    "batch_size = 1000  \n",
    "\n",
    "# 1/4 chance to drop out a node\n",
    "keep_probability = 0.75"
   ]
  },
  {
   "cell_type": "markdown",
   "metadata": {},
   "source": [
    "### Train on a Single CIFAR-10 Batch\n",
    "Instead of training the neural network on all the CIFAR-10 batches of data, let's use a single batch. This should save time while you iterate on the model to get a better accuracy.  Once the final validation accuracy is 50% or greater, run the model on all the data in the next section."
   ]
  },
  {
   "cell_type": "code",
   "execution_count": 16,
   "metadata": {},
   "outputs": [
    {
     "name": "stdout",
     "output_type": "stream",
     "text": [
      "Checking the Training on a Single Batch...\n",
      "Epoch  1, CIFAR-10 Batch 1:  Loss:  9.84162 Valdiation accuracy:  0.1422\n",
      "Epoch  2, CIFAR-10 Batch 1:  Loss:  5.37781 Valdiation accuracy:  0.1494\n",
      "Epoch  3, CIFAR-10 Batch 1:  Loss:  2.77573 Valdiation accuracy:  0.156\n",
      "Epoch  4, CIFAR-10 Batch 1:  Loss:  2.31481 Valdiation accuracy:  0.1632\n",
      "Epoch  5, CIFAR-10 Batch 1:  Loss:  2.22644 Valdiation accuracy:  0.1828\n",
      "Epoch  6, CIFAR-10 Batch 1:  Loss:  2.16997 Valdiation accuracy:  0.1954\n",
      "Epoch  7, CIFAR-10 Batch 1:  Loss:  2.12205 Valdiation accuracy:  0.2198\n",
      "Epoch  8, CIFAR-10 Batch 1:  Loss:  2.07905 Valdiation accuracy:  0.2398\n",
      "Epoch  9, CIFAR-10 Batch 1:  Loss:  2.02968 Valdiation accuracy:  0.2578\n",
      "Epoch 10, CIFAR-10 Batch 1:  Loss:  1.96109 Valdiation accuracy:  0.2912\n",
      "Epoch 11, CIFAR-10 Batch 1:  Loss:  1.9108 Valdiation accuracy:  0.3254\n",
      "Epoch 12, CIFAR-10 Batch 1:  Loss:  1.84221 Valdiation accuracy:  0.3354\n",
      "Epoch 13, CIFAR-10 Batch 1:  Loss:  1.78376 Valdiation accuracy:  0.367\n",
      "Epoch 14, CIFAR-10 Batch 1:  Loss:  1.71946 Valdiation accuracy:  0.3832\n",
      "Epoch 15, CIFAR-10 Batch 1:  Loss:  1.65548 Valdiation accuracy:  0.401\n",
      "Epoch 16, CIFAR-10 Batch 1:  Loss:  1.59532 Valdiation accuracy:  0.4136\n",
      "Epoch 17, CIFAR-10 Batch 1:  Loss:  1.54312 Valdiation accuracy:  0.4268\n",
      "Epoch 18, CIFAR-10 Batch 1:  Loss:  1.49621 Valdiation accuracy:  0.4344\n",
      "Epoch 19, CIFAR-10 Batch 1:  Loss:  1.47779 Valdiation accuracy:  0.4344\n",
      "Epoch 20, CIFAR-10 Batch 1:  Loss:  1.41518 Valdiation accuracy:  0.455\n",
      "Epoch 21, CIFAR-10 Batch 1:  Loss:  1.39505 Valdiation accuracy:  0.4512\n",
      "Epoch 22, CIFAR-10 Batch 1:  Loss:  1.34077 Valdiation accuracy:  0.4666\n",
      "Epoch 23, CIFAR-10 Batch 1:  Loss:  1.2952 Valdiation accuracy:  0.4762\n",
      "Epoch 24, CIFAR-10 Batch 1:  Loss:  1.27176 Valdiation accuracy:  0.4756\n",
      "Epoch 25, CIFAR-10 Batch 1:  Loss:  1.25039 Valdiation accuracy:  0.4796\n",
      "Epoch 26, CIFAR-10 Batch 1:  Loss:  1.25555 Valdiation accuracy:  0.4716\n",
      "Epoch 27, CIFAR-10 Batch 1:  Loss:  1.19359 Valdiation accuracy:  0.486\n",
      "Epoch 28, CIFAR-10 Batch 1:  Loss:  1.16178 Valdiation accuracy:  0.4888\n",
      "Epoch 29, CIFAR-10 Batch 1:  Loss:  1.10514 Valdiation accuracy:  0.5012\n",
      "Epoch 30, CIFAR-10 Batch 1:  Loss:  1.06934 Valdiation accuracy:  0.5078\n",
      "Epoch 31, CIFAR-10 Batch 1:  Loss:  1.04148 Valdiation accuracy:  0.513\n",
      "Epoch 32, CIFAR-10 Batch 1:  Loss:  1.01319 Valdiation accuracy:  0.516\n",
      "Epoch 33, CIFAR-10 Batch 1:  Loss:  0.9949 Valdiation accuracy:  0.5164\n",
      "Epoch 34, CIFAR-10 Batch 1:  Loss:  0.975751 Valdiation accuracy:  0.5176\n",
      "Epoch 35, CIFAR-10 Batch 1:  Loss:  0.926552 Valdiation accuracy:  0.5202\n",
      "Epoch 36, CIFAR-10 Batch 1:  Loss:  0.901152 Valdiation accuracy:  0.5252\n",
      "Epoch 37, CIFAR-10 Batch 1:  Loss:  0.885127 Valdiation accuracy:  0.5224\n",
      "Epoch 38, CIFAR-10 Batch 1:  Loss:  0.846375 Valdiation accuracy:  0.527\n",
      "Epoch 39, CIFAR-10 Batch 1:  Loss:  0.833748 Valdiation accuracy:  0.524\n",
      "Epoch 40, CIFAR-10 Batch 1:  Loss:  0.802518 Valdiation accuracy:  0.5294\n",
      "Epoch 41, CIFAR-10 Batch 1:  Loss:  0.785796 Valdiation accuracy:  0.5304\n",
      "Epoch 42, CIFAR-10 Batch 1:  Loss:  0.759522 Valdiation accuracy:  0.5318\n",
      "Epoch 43, CIFAR-10 Batch 1:  Loss:  0.756984 Valdiation accuracy:  0.525\n",
      "Epoch 44, CIFAR-10 Batch 1:  Loss:  0.726864 Valdiation accuracy:  0.5312\n",
      "Epoch 45, CIFAR-10 Batch 1:  Loss:  0.696682 Valdiation accuracy:  0.5294\n",
      "Epoch 46, CIFAR-10 Batch 1:  Loss:  0.686913 Valdiation accuracy:  0.5352\n",
      "Epoch 47, CIFAR-10 Batch 1:  Loss:  0.672409 Valdiation accuracy:  0.5276\n",
      "Epoch 48, CIFAR-10 Batch 1:  Loss:  0.676607 Valdiation accuracy:  0.5302\n",
      "Epoch 49, CIFAR-10 Batch 1:  Loss:  0.632037 Valdiation accuracy:  0.5392\n",
      "Epoch 50, CIFAR-10 Batch 1:  Loss:  0.613916 Valdiation accuracy:  0.5384\n"
     ]
    }
   ],
   "source": [
    "\"\"\"\n",
    "DON'T MODIFY ANYTHING IN THIS CELL\n",
    "\"\"\"\n",
    "print('Checking the Training on a Single Batch...')\n",
    "with tf.Session() as sess:\n",
    "    # Initializing the variables\n",
    "    sess.run(tf.global_variables_initializer())\n",
    "    \n",
    "    # Training cycle\n",
    "    for epoch in range(epochs):\n",
    "        batch_i = 1\n",
    "        for batch_features, batch_labels in helper.load_preprocess_training_batch(batch_i, batch_size):\n",
    "            train_neural_network(sess, optimizer, keep_probability, batch_features, batch_labels)\n",
    "        print('Epoch {:>2}, CIFAR-10 Batch {}:  '.format(epoch + 1, batch_i), end='')\n",
    "        print_stats(sess, batch_features, batch_labels, cost, accuracy)"
   ]
  },
  {
   "cell_type": "markdown",
   "metadata": {},
   "source": [
    "Accuracy of 50% is attained after 30 epochs so we can train on the full batches.\n",
    "\n",
    "### Fully Train the Model\n",
    "Now that you got a good accuracy with a single CIFAR-10 batch, try it with all five batches."
   ]
  },
  {
   "cell_type": "code",
   "execution_count": null,
   "metadata": {},
   "outputs": [
    {
     "name": "stdout",
     "output_type": "stream",
     "text": [
      "Training...\n",
      "Epoch  1, CIFAR-10 Batch 1:  Loss:  8.2858 Valdiation accuracy:  0.1664\n",
      "Epoch  1, CIFAR-10 Batch 2:  Loss:  2.97219 Valdiation accuracy:  0.1882\n",
      "Epoch  1, CIFAR-10 Batch 3:  Loss:  2.23811 Valdiation accuracy:  0.1746\n",
      "Epoch  1, CIFAR-10 Batch 4:  Loss:  2.20757 Valdiation accuracy:  0.1918\n",
      "Epoch  1, CIFAR-10 Batch 5:  Loss:  2.15113 Valdiation accuracy:  0.2016\n",
      "Epoch  2, CIFAR-10 Batch 1:  Loss:  2.10892 Valdiation accuracy:  0.2286\n",
      "Epoch  2, CIFAR-10 Batch 2:  Loss:  2.06953 Valdiation accuracy:  0.252\n",
      "Epoch  2, CIFAR-10 Batch 3:  Loss:  1.98259 Valdiation accuracy:  0.2698\n",
      "Epoch  2, CIFAR-10 Batch 4:  Loss:  1.93771 Valdiation accuracy:  0.2966\n",
      "Epoch  2, CIFAR-10 Batch 5:  Loss:  1.88319 Valdiation accuracy:  0.3112\n",
      "Epoch  3, CIFAR-10 Batch 1:  Loss:  1.8072 Valdiation accuracy:  0.3292\n",
      "Epoch  3, CIFAR-10 Batch 2:  Loss:  1.74521 Valdiation accuracy:  0.3428\n",
      "Epoch  3, CIFAR-10 Batch 3:  Loss:  1.66193 Valdiation accuracy:  0.366\n",
      "Epoch  3, CIFAR-10 Batch 4:  Loss:  1.65313 Valdiation accuracy:  0.39\n",
      "Epoch  3, CIFAR-10 Batch 5:  Loss:  1.61523 Valdiation accuracy:  0.402\n",
      "Epoch  4, CIFAR-10 Batch 1:  Loss:  1.58427 Valdiation accuracy:  0.4072\n",
      "Epoch  4, CIFAR-10 Batch 2:  Loss:  1.54843 Valdiation accuracy:  0.4188\n",
      "Epoch  4, CIFAR-10 Batch 3:  Loss:  1.50794 Valdiation accuracy:  0.4346\n",
      "Epoch  4, CIFAR-10 Batch 4:  Loss:  1.50663 Valdiation accuracy:  0.4394\n",
      "Epoch  4, CIFAR-10 Batch 5:  Loss:  1.47644 Valdiation accuracy:  0.4488\n",
      "Epoch  5, CIFAR-10 Batch 1:  Loss:  1.44856 Valdiation accuracy:  0.4572\n",
      "Epoch  5, CIFAR-10 Batch 2:  Loss:  1.44807 Valdiation accuracy:  0.4644\n",
      "Epoch  5, CIFAR-10 Batch 3:  Loss:  1.39756 Valdiation accuracy:  0.4772\n",
      "Epoch  5, CIFAR-10 Batch 4:  Loss:  1.40766 Valdiation accuracy:  0.4826\n",
      "Epoch  5, CIFAR-10 Batch 5:  Loss:  1.34993 Valdiation accuracy:  0.4832\n",
      "Epoch  6, CIFAR-10 Batch 1:  Loss:  1.35175 Valdiation accuracy:  0.4904\n",
      "Epoch  6, CIFAR-10 Batch 2:  Loss:  1.34992 Valdiation accuracy:  0.4984\n",
      "Epoch  6, CIFAR-10 Batch 3:  Loss:  1.32352 Valdiation accuracy:  0.4994\n",
      "Epoch  6, CIFAR-10 Batch 4:  Loss:  1.30894 Valdiation accuracy:  0.5096\n",
      "Epoch  6, CIFAR-10 Batch 5:  Loss:  1.26656 Valdiation accuracy:  0.5086\n",
      "Epoch  7, CIFAR-10 Batch 1:  Loss:  1.25533 Valdiation accuracy:  0.5234\n",
      "Epoch  7, CIFAR-10 Batch 2:  Loss:  1.26029 Valdiation accuracy:  0.5286\n",
      "Epoch  7, CIFAR-10 Batch 3:  Loss:  1.24503 Valdiation accuracy:  0.5234\n",
      "Epoch  7, CIFAR-10 Batch 4:  Loss:  1.25202 Valdiation accuracy:  0.534\n",
      "Epoch  7, CIFAR-10 Batch 5:  Loss:  1.17298 Valdiation accuracy:  0.5302\n",
      "Epoch  8, CIFAR-10 Batch 1:  Loss:  1.17206 Valdiation accuracy:  0.5434\n",
      "Epoch  8, CIFAR-10 Batch 2:  Loss:  1.1732 Valdiation accuracy:  0.545\n",
      "Epoch  8, CIFAR-10 Batch 3:  Loss:  1.15316 Valdiation accuracy:  0.5534\n",
      "Epoch  8, CIFAR-10 Batch 4:  Loss:  1.18756 Valdiation accuracy:  0.55\n",
      "Epoch  8, CIFAR-10 Batch 5:  Loss:  1.10187 Valdiation accuracy:  0.5478\n",
      "Epoch  9, CIFAR-10 Batch 1:  Loss:  1.10866 Valdiation accuracy:  0.5602\n",
      "Epoch  9, CIFAR-10 Batch 2:  Loss:  1.11354 Valdiation accuracy:  0.5632\n",
      "Epoch  9, CIFAR-10 Batch 3:  Loss:  1.08938 Valdiation accuracy:  0.5646\n",
      "Epoch  9, CIFAR-10 Batch 4:  Loss:  1.10902 Valdiation accuracy:  0.5632\n",
      "Epoch  9, CIFAR-10 Batch 5:  Loss:  1.03309 Valdiation accuracy:  0.5512\n",
      "Epoch 10, CIFAR-10 Batch 1:  Loss:  1.03533 Valdiation accuracy:  0.5764\n",
      "Epoch 10, CIFAR-10 Batch 2:  Loss:  1.0535 Valdiation accuracy:  0.5744\n",
      "Epoch 10, CIFAR-10 Batch 3:  Loss:  1.01434 Valdiation accuracy:  0.5758\n",
      "Epoch 10, CIFAR-10 Batch 4:  Loss:  1.06485 Valdiation accuracy:  0.5678\n",
      "Epoch 10, CIFAR-10 Batch 5:  Loss:  0.968429 Valdiation accuracy:  0.5776\n",
      "Epoch 11, CIFAR-10 Batch 1:  Loss:  1.01535 Valdiation accuracy:  0.5786\n",
      "Epoch 11, CIFAR-10 Batch 2:  Loss:  1.01294 Valdiation accuracy:  0.5774\n",
      "Epoch 11, CIFAR-10 Batch 3:  Loss:  0.969218 Valdiation accuracy:  0.5896\n",
      "Epoch 11, CIFAR-10 Batch 4:  Loss:  0.997779 Valdiation accuracy:  0.5864\n",
      "Epoch 11, CIFAR-10 Batch 5:  Loss:  0.931984 Valdiation accuracy:  0.5828\n",
      "Epoch 12, CIFAR-10 Batch 1:  Loss:  0.974381 Valdiation accuracy:  0.592\n",
      "Epoch 12, CIFAR-10 Batch 2:  Loss:  0.955265 Valdiation accuracy:  0.5872\n",
      "Epoch 12, CIFAR-10 Batch 3:  Loss:  0.944636 Valdiation accuracy:  0.5838\n",
      "Epoch 12, CIFAR-10 Batch 4:  Loss:  0.980162 Valdiation accuracy:  0.5838\n",
      "Epoch 12, CIFAR-10 Batch 5:  Loss:  0.900349 Valdiation accuracy:  0.586\n",
      "Epoch 13, CIFAR-10 Batch 1:  Loss:  0.927223 Valdiation accuracy:  0.5996\n",
      "Epoch 13, CIFAR-10 Batch 2:  Loss:  0.924005 Valdiation accuracy:  0.5936\n",
      "Epoch 13, CIFAR-10 Batch 3:  Loss:  0.884849 Valdiation accuracy:  0.599\n",
      "Epoch 13, CIFAR-10 Batch 4:  Loss:  0.910335 Valdiation accuracy:  0.6004\n",
      "Epoch 13, CIFAR-10 Batch 5:  Loss:  0.842169 Valdiation accuracy:  0.5962\n",
      "Epoch 14, CIFAR-10 Batch 1:  Loss:  0.89259 Valdiation accuracy:  0.6054\n",
      "Epoch 14, CIFAR-10 Batch 2:  Loss:  0.881026 Valdiation accuracy:  0.6016\n",
      "Epoch 14, CIFAR-10 Batch 3:  Loss:  0.840905 Valdiation accuracy:  0.6024\n",
      "Epoch 14, CIFAR-10 Batch 4:  Loss:  0.862053 Valdiation accuracy:  0.6032\n",
      "Epoch 14, CIFAR-10 Batch 5:  Loss:  0.832508 Valdiation accuracy:  0.589\n",
      "Epoch 15, CIFAR-10 Batch 1:  Loss:  0.865123 Valdiation accuracy:  0.6034\n",
      "Epoch 15, CIFAR-10 Batch 2:  Loss:  0.837225 Valdiation accuracy:  0.6066\n",
      "Epoch 15, CIFAR-10 Batch 3:  Loss:  0.78066 Valdiation accuracy:  0.6062\n",
      "Epoch 15, CIFAR-10 Batch 4:  Loss:  0.806216 Valdiation accuracy:  0.6066\n",
      "Epoch 15, CIFAR-10 Batch 5:  Loss:  0.787745 Valdiation accuracy:  0.5952\n",
      "Epoch 16, CIFAR-10 Batch 1:  Loss:  0.834555 Valdiation accuracy:  0.6032\n",
      "Epoch 16, CIFAR-10 Batch 2:  Loss:  0.80909 Valdiation accuracy:  0.5986\n",
      "Epoch 16, CIFAR-10 Batch 3:  Loss:  0.756934 Valdiation accuracy:  0.6112\n",
      "Epoch 16, CIFAR-10 Batch 4:  Loss:  0.788001 Valdiation accuracy:  0.6106\n",
      "Epoch 16, CIFAR-10 Batch 5:  Loss:  0.746306 Valdiation accuracy:  0.6078\n",
      "Epoch 17, CIFAR-10 Batch 1:  Loss:  0.817645 Valdiation accuracy:  0.6052\n",
      "Epoch 17, CIFAR-10 Batch 2:  Loss:  0.760948 Valdiation accuracy:  0.6156\n",
      "Epoch 17, CIFAR-10 Batch 3:  Loss:  0.717955 Valdiation accuracy:  0.6234\n",
      "Epoch 17, CIFAR-10 Batch 4:  Loss:  0.749299 Valdiation accuracy:  0.613\n",
      "Epoch 17, CIFAR-10 Batch 5:  Loss:  0.699955 Valdiation accuracy:  0.6182\n",
      "Epoch 18, CIFAR-10 Batch 1:  Loss:  0.785479 Valdiation accuracy:  0.6036\n",
      "Epoch 18, CIFAR-10 Batch 2:  Loss:  0.733201 Valdiation accuracy:  0.6088\n",
      "Epoch 18, CIFAR-10 Batch 3:  Loss:  0.692176 Valdiation accuracy:  0.6174\n",
      "Epoch 18, CIFAR-10 Batch 4:  Loss:  0.726384 Valdiation accuracy:  0.6126\n",
      "Epoch 18, CIFAR-10 Batch 5:  Loss:  0.679273 Valdiation accuracy:  0.613\n",
      "Epoch 19, CIFAR-10 Batch 1:  Loss:  0.728507 Valdiation accuracy:  0.6208\n",
      "Epoch 19, CIFAR-10 Batch 2:  Loss:  0.729771 Valdiation accuracy:  0.6098\n",
      "Epoch 19, CIFAR-10 Batch 3:  Loss:  0.701223 Valdiation accuracy:  0.6098\n",
      "Epoch 19, CIFAR-10 Batch 4:  Loss:  0.712158 Valdiation accuracy:  0.607\n",
      "Epoch 19, CIFAR-10 Batch 5:  Loss:  0.662451 Valdiation accuracy:  0.6114\n",
      "Epoch 20, CIFAR-10 Batch 1:  Loss:  0.707588 Valdiation accuracy:  0.6204\n",
      "Epoch 20, CIFAR-10 Batch 2:  Loss:  0.687511 Valdiation accuracy:  0.6124\n",
      "Epoch 20, CIFAR-10 Batch 3:  Loss:  0.637264 Valdiation accuracy:  0.6252\n",
      "Epoch 20, CIFAR-10 Batch 4:  Loss:  0.683864 Valdiation accuracy:  0.6088\n",
      "Epoch 20, CIFAR-10 Batch 5:  Loss:  0.646558 Valdiation accuracy:  0.6166\n",
      "Epoch 21, CIFAR-10 Batch 1:  Loss:  0.694191 Valdiation accuracy:  0.6128\n",
      "Epoch 21, CIFAR-10 Batch 2:  Loss:  0.65479 Valdiation accuracy:  0.6182\n",
      "Epoch 21, CIFAR-10 Batch 3:  Loss:  0.596844 Valdiation accuracy:  0.6276\n",
      "Epoch 21, CIFAR-10 Batch 4:  Loss:  0.664759 Valdiation accuracy:  0.5994\n",
      "Epoch 21, CIFAR-10 Batch 5:  Loss:  0.617157 Valdiation accuracy:  0.6166\n",
      "Epoch 22, CIFAR-10 Batch 1:  Loss:  0.65269 Valdiation accuracy:  0.6196\n",
      "Epoch 22, CIFAR-10 Batch 2:  Loss:  0.638128 Valdiation accuracy:  0.6132\n",
      "Epoch 22, CIFAR-10 Batch 3:  Loss:  0.592037 Valdiation accuracy:  0.6218\n",
      "Epoch 22, CIFAR-10 Batch 4:  Loss:  0.618752 Valdiation accuracy:  0.6224\n",
      "Epoch 22, CIFAR-10 Batch 5:  Loss:  0.584428 Valdiation accuracy:  0.6226\n",
      "Epoch 23, CIFAR-10 Batch 1:  Loss:  0.64855 Valdiation accuracy:  0.6164\n"
     ]
    },
    {
     "name": "stdout",
     "output_type": "stream",
     "text": [
      "Epoch 23, CIFAR-10 Batch 2:  Loss:  0.619624 Valdiation accuracy:  0.615\n",
      "Epoch 23, CIFAR-10 Batch 3:  Loss:  0.570394 Valdiation accuracy:  0.6222\n",
      "Epoch 23, CIFAR-10 Batch 4:  Loss:  0.598005 Valdiation accuracy:  0.6238\n",
      "Epoch 23, CIFAR-10 Batch 5:  Loss:  0.580893 Valdiation accuracy:  0.6182\n",
      "Epoch 24, CIFAR-10 Batch 1:  Loss:  0.612339 Valdiation accuracy:  0.6278\n",
      "Epoch 24, CIFAR-10 Batch 2:  Loss:  0.592452 Valdiation accuracy:  0.616\n",
      "Epoch 24, CIFAR-10 Batch 3:  Loss:  0.577443 Valdiation accuracy:  0.6232\n",
      "Epoch 24, CIFAR-10 Batch 4:  Loss:  0.58739 Valdiation accuracy:  0.6238\n",
      "Epoch 24, CIFAR-10 Batch 5:  Loss:  0.564763 Valdiation accuracy:  0.6236\n",
      "Epoch 25, CIFAR-10 Batch 1:  Loss:  0.590361 Valdiation accuracy:  0.631\n",
      "Epoch 25, CIFAR-10 Batch 2:  Loss:  0.580573 Valdiation accuracy:  0.6216\n",
      "Epoch 25, CIFAR-10 Batch 3:  Loss:  0.569842 Valdiation accuracy:  0.6102\n",
      "Epoch 25, CIFAR-10 Batch 4:  Loss:  0.55977 Valdiation accuracy:  0.6346\n"
     ]
    }
   ],
   "source": [
    "\"\"\"\n",
    "DON'T MODIFY ANYTHING IN THIS CELL\n",
    "\"\"\"\n",
    "save_model_path = './image_classification'\n",
    "\n",
    "print('Training...')\n",
    "with tf.Session() as sess:\n",
    "    # Initializing the variables\n",
    "    sess.run(tf.global_variables_initializer())\n",
    "    \n",
    "    # Training cycle\n",
    "    for epoch in range(epochs):\n",
    "        # Loop over all batches\n",
    "        n_batches = 5\n",
    "        for batch_i in range(1, n_batches + 1):\n",
    "            for batch_features, batch_labels in helper.load_preprocess_training_batch(batch_i, batch_size):\n",
    "                train_neural_network(sess, optimizer, keep_probability, batch_features, batch_labels)\n",
    "            print('Epoch {:>2}, CIFAR-10 Batch {}:  '.format(epoch + 1, batch_i), end='')\n",
    "            print_stats(sess, batch_features, batch_labels, cost, accuracy)\n",
    "            \n",
    "    # Save Model\n",
    "    saver = tf.train.Saver()\n",
    "    save_path = saver.save(sess, save_model_path)"
   ]
  },
  {
   "cell_type": "markdown",
   "metadata": {},
   "source": [
    "We get a final accuracy of 65.4%.\n",
    "\n",
    "# Checkpoint\n",
    "The model has been saved to disk.\n",
    "## Test Model\n",
    "Test your model against the test dataset.  This will be your final accuracy. You should have an accuracy greater than 50%. If you don't, keep tweaking the model architecture and parameters."
   ]
  },
  {
   "cell_type": "code",
   "execution_count": null,
   "metadata": {},
   "outputs": [],
   "source": [
    "\"\"\"\n",
    "DON'T MODIFY ANYTHING IN THIS CELL\n",
    "\"\"\"\n",
    "%matplotlib inline\n",
    "%config InlineBackend.figure_format = 'retina'\n",
    "\n",
    "import tensorflow as tf\n",
    "import pickle\n",
    "import helper\n",
    "import random\n",
    "\n",
    "# Set batch size if not already set\n",
    "try:\n",
    "    if batch_size:\n",
    "        pass\n",
    "except NameError:\n",
    "    batch_size = 64\n",
    "\n",
    "save_model_path = './image_classification'\n",
    "n_samples = 4\n",
    "top_n_predictions = 3\n",
    "\n",
    "def test_model():\n",
    "    \"\"\"\n",
    "    Test the saved model against the test dataset\n",
    "    \"\"\"\n",
    "\n",
    "    test_features, test_labels = pickle.load(open('preprocess_test.p', mode='rb'))\n",
    "    loaded_graph = tf.Graph()\n",
    "\n",
    "    with tf.Session(graph=loaded_graph) as sess:\n",
    "        # Load model\n",
    "        loader = tf.train.import_meta_graph(save_model_path + '.meta')\n",
    "        loader.restore(sess, save_model_path)\n",
    "\n",
    "        # Get Tensors from loaded model\n",
    "        loaded_x = loaded_graph.get_tensor_by_name('x:0')\n",
    "        loaded_y = loaded_graph.get_tensor_by_name('y:0')\n",
    "        loaded_keep_prob = loaded_graph.get_tensor_by_name('keep_prob:0')\n",
    "        loaded_logits = loaded_graph.get_tensor_by_name('logits:0')\n",
    "        loaded_acc = loaded_graph.get_tensor_by_name('accuracy:0')\n",
    "        \n",
    "        # Get accuracy in batches for memory limitations\n",
    "        test_batch_acc_total = 0\n",
    "        test_batch_count = 0\n",
    "        \n",
    "        for test_feature_batch, test_label_batch in helper.batch_features_labels(test_features, test_labels, batch_size):\n",
    "            test_batch_acc_total += sess.run(\n",
    "                loaded_acc,\n",
    "                feed_dict={loaded_x: test_feature_batch, loaded_y: test_label_batch, loaded_keep_prob: 1.0})\n",
    "            test_batch_count += 1\n",
    "\n",
    "        print('Testing Accuracy: {}\\n'.format(test_batch_acc_total/test_batch_count))\n",
    "\n",
    "        # Print Random Samples\n",
    "        random_test_features, random_test_labels = tuple(zip(*random.sample(list(zip(test_features, test_labels)), n_samples)))\n",
    "        random_test_predictions = sess.run(\n",
    "            tf.nn.top_k(tf.nn.softmax(loaded_logits), top_n_predictions),\n",
    "            feed_dict={loaded_x: random_test_features, loaded_y: random_test_labels, loaded_keep_prob: 1.0})\n",
    "        helper.display_image_predictions(random_test_features, random_test_labels, random_test_predictions)\n",
    "\n",
    "\n",
    "test_model()"
   ]
  },
  {
   "cell_type": "markdown",
   "metadata": {},
   "source": [
    "In the end we have a test accuracy of almost 65%, close to the validaiton accuracy. I had the hardest time with filter size and initalization of weights. truncated_normal did not improve the convergence. What really works was tuning the stdnard deviation.\n",
    "\n",
    "\n",
    "## Why 50-80% Accuracy?\n",
    "You might be wondering why you can't get an accuracy any higher. First things first, 50% isn't bad for a simple CNN.  Pure guessing would get you 10% accuracy. However, you might notice people are getting scores [well above 80%](http://rodrigob.github.io/are_we_there_yet/build/classification_datasets_results.html#43494641522d3130).  That's because we haven't taught you all there is to know about neural networks. We still need to cover a few more techniques.\n",
    "## Submitting This Project\n",
    "When submitting this project, make sure to run all the cells before saving the notebook.  Save the notebook file as \"dlnd_image_classification.ipynb\" and save it as a HTML file under \"File\" -> \"Download as\".  Include the \"helper.py\" and \"problem_unittests.py\" files in your submission."
   ]
  },
  {
   "cell_type": "code",
   "execution_count": null,
   "metadata": {
    "collapsed": true
   },
   "outputs": [],
   "source": []
  }
 ],
 "metadata": {
  "kernelspec": {
   "display_name": "Python 3",
   "language": "python",
   "name": "python3"
  },
  "language_info": {
   "codemirror_mode": {
    "name": "ipython",
    "version": 3
   },
   "file_extension": ".py",
   "mimetype": "text/x-python",
   "name": "python",
   "nbconvert_exporter": "python",
   "pygments_lexer": "ipython3",
   "version": "3.5.4"
  }
 },
 "nbformat": 4,
 "nbformat_minor": 1
}
