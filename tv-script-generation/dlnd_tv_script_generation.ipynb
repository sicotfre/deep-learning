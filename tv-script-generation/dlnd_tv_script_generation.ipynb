{
 "cells": [
  {
   "cell_type": "markdown",
   "metadata": {
    "deletable": true,
    "editable": true
   },
   "source": [
    "# TV Script Generation\n",
    "In this project, you'll generate your own [Simpsons](https://en.wikipedia.org/wiki/The_Simpsons) TV scripts using RNNs.  You'll be using part of the [Simpsons dataset](https://www.kaggle.com/wcukierski/the-simpsons-by-the-data) of scripts from 27 seasons.  The Neural Network you'll build will generate a new TV script for a scene at [Moe's Tavern](https://simpsonswiki.com/wiki/Moe's_Tavern).\n",
    "## Get the Data\n",
    "The data is already provided for you.  You'll be using a subset of the original dataset.  It consists of only the scenes in Moe's Tavern.  This doesn't include other versions of the tavern, like \"Moe's Cavern\", \"Flaming Moe's\", \"Uncle Moe's Family Feed-Bag\", etc.."
   ]
  },
  {
   "cell_type": "code",
   "execution_count": 1,
   "metadata": {
    "collapsed": false,
    "deletable": true,
    "editable": true
   },
   "outputs": [],
   "source": [
    "\"\"\"\n",
    "DON'T MODIFY ANYTHING IN THIS CELL\n",
    "\"\"\"\n",
    "import helper\n",
    "\n",
    "data_dir = './data/simpsons/moes_tavern_lines.txt'\n",
    "text = helper.load_data(data_dir)\n",
    "# Ignore notice, since we don't use it for analysing the data\n",
    "text = text[81:]"
   ]
  },
  {
   "cell_type": "markdown",
   "metadata": {
    "deletable": true,
    "editable": true
   },
   "source": [
    "## Explore the Data\n",
    "Play around with `view_sentence_range` to view different parts of the data."
   ]
  },
  {
   "cell_type": "code",
   "execution_count": 17,
   "metadata": {
    "collapsed": false,
    "deletable": true,
    "editable": true
   },
   "outputs": [
    {
     "name": "stdout",
     "output_type": "stream",
     "text": [
      "Dataset Stats\n",
      "Roughly the number of unique words: 11492\n",
      "Number of scenes: 262\n",
      "Average number of sentences in each scene: 15.251908396946565\n",
      "Number of lines: 4258\n",
      "Average number of words in each line: 11.50164396430249\n",
      "\n",
      "The sentences 100 to 110:\n",
      "Moe_Szyslak: A sneeze guard.\n",
      "Barney_Gumble: Wow, it really works.\n",
      "HARV: (CHUCKLING) I'll be back.\n",
      "Homer_Simpson: Moe, I haven't seen the place this crowded since the government cracked down on you for accepting food stamps. Do you think my drink had something to do with it?\n",
      "Moe_Szyslak: Who can say? It's probably a combination of things.\n",
      "Patron_#1: (TO MOE) Another pitcher of those amazing \"Flaming Moe's\".\n",
      "Patron_#2: Boy, I hate this joint, but I love that drink.\n",
      "Collette: Barkeep, I couldn't help noticing your sign.\n",
      "Moe_Szyslak: The one that says, \"Bartenders Do It 'Til You Barf\"?\n",
      "Collette: No, above that store-bought drollery.\n"
     ]
    }
   ],
   "source": [
    "view_sentence_range = (100, 110)\n",
    "\n",
    "\"\"\"\n",
    "DON'T MODIFY ANYTHING IN THIS CELL\n",
    "\"\"\"\n",
    "import numpy as np\n",
    "\n",
    "print('Dataset Stats')\n",
    "print('Roughly the number of unique words: {}'.format(len({word: None for word in text.split()})))\n",
    "scenes = text.split('\\n\\n')\n",
    "print('Number of scenes: {}'.format(len(scenes)))\n",
    "sentence_count_scene = [scene.count('\\n') for scene in scenes]\n",
    "print('Average number of sentences in each scene: {}'.format(np.average(sentence_count_scene)))\n",
    "\n",
    "sentences = [sentence for scene in scenes for sentence in scene.split('\\n')]\n",
    "print('Number of lines: {}'.format(len(sentences)))\n",
    "word_count_sentence = [len(sentence.split()) for sentence in sentences]\n",
    "print('Average number of words in each line: {}'.format(np.average(word_count_sentence)))\n",
    "\n",
    "print()\n",
    "print('The sentences {} to {}:'.format(*view_sentence_range))\n",
    "print('\\n'.join(text.split('\\n')[view_sentence_range[0]:view_sentence_range[1]]))"
   ]
  },
  {
   "cell_type": "markdown",
   "metadata": {
    "deletable": true,
    "editable": true
   },
   "source": [
    "## Implement Preprocessing Functions\n",
    "The first thing to do to any dataset is preprocessing.  Implement the following preprocessing functions below:\n",
    "- Lookup Table\n",
    "- Tokenize Punctuation\n",
    "\n",
    "### Lookup Table\n",
    "To create a word embedding, you first need to transform the words to ids.  In this function, create two dictionaries:\n",
    "- Dictionary to go from the words to an id, we'll call `vocab_to_int`\n",
    "- Dictionary to go from the id to word, we'll call `int_to_vocab`\n",
    "\n",
    "Return these dictionaries in the following tuple `(vocab_to_int, int_to_vocab)`"
   ]
  },
  {
   "cell_type": "code",
   "execution_count": 3,
   "metadata": {
    "collapsed": false,
    "deletable": true,
    "editable": true
   },
   "outputs": [
    {
     "name": "stdout",
     "output_type": "stream",
     "text": [
      "Tests Passed\n"
     ]
    }
   ],
   "source": [
    "import numpy as np\n",
    "import problem_unittests as tests\n",
    "\n",
    "def create_lookup_tables(text):\n",
    "    \"\"\"\n",
    "    Create lookup tables for vocabulary\n",
    "    :param text: The text of tv scripts split into words\n",
    "    :return: A tuple of dicts (vocab_to_int, int_to_vocab)\n",
    "    \"\"\"\n",
    "    \n",
    "    # get unique words\n",
    "    set_words = set(text)\n",
    "    \n",
    "    # create empty dictionnary\n",
    "    vocab_to_int = {}\n",
    "    int_to_vocab = {}\n",
    "    \n",
    "    # loop over unique words with enumerate function to get an index and fill dictionnaires\n",
    "    for idx, w in enumerate(set_words):\n",
    "        vocab_to_int[w] = idx\n",
    "        int_to_vocab[idx] = w\n",
    "    return vocab_to_int, int_to_vocab\n",
    "\n",
    "\n",
    "\"\"\"\n",
    "DON'T MODIFY ANYTHING IN THIS CELL THAT IS BELOW THIS LINE\n",
    "\"\"\"\n",
    "tests.test_create_lookup_tables(create_lookup_tables)"
   ]
  },
  {
   "cell_type": "markdown",
   "metadata": {
    "deletable": true,
    "editable": true
   },
   "source": [
    "### Tokenize Punctuation\n",
    "We'll be splitting the script into a word array using spaces as delimiters.  However, punctuations like periods and exclamation marks make it hard for the neural network to distinguish between the word \"bye\" and \"bye!\".\n",
    "\n",
    "Implement the function `token_lookup` to return a dict that will be used to tokenize symbols like \"!\" into \"||Exclamation_Mark||\".  Create a dictionary for the following symbols where the symbol is the key and value is the token:\n",
    "- Period ( . )\n",
    "- Comma ( , )\n",
    "- Quotation Mark ( \" )\n",
    "- Semicolon ( ; )\n",
    "- Exclamation mark ( ! )\n",
    "- Question mark ( ? )\n",
    "- Left Parentheses ( ( )\n",
    "- Right Parentheses ( ) )\n",
    "- Dash ( -- )\n",
    "- Return ( \\n )\n",
    "\n",
    "This dictionary will be used to token the symbols and add the delimiter (space) around it.  This separates the symbols as it's own word, making it easier for the neural network to predict on the next word. Make sure you don't use a token that could be confused as a word. Instead of using the token \"dash\", try using something like \"||dash||\"."
   ]
  },
  {
   "cell_type": "code",
   "execution_count": 4,
   "metadata": {
    "collapsed": false,
    "deletable": true,
    "editable": true
   },
   "outputs": [
    {
     "name": "stdout",
     "output_type": "stream",
     "text": [
      "Tests Passed\n"
     ]
    }
   ],
   "source": [
    "def token_lookup():\n",
    "    \"\"\"\n",
    "    Generate a dict to turn punctuation into a token.\n",
    "    :return: Tokenize dictionary where the key is the punctuation and the value is the token\n",
    "    \"\"\"\n",
    "    \n",
    "    return {'.': '||Period||',\n",
    "           ',': '||Comma||',\n",
    "           '\"': '||Quotation_Mark||',\n",
    "           ';': '||Semicolon||',\n",
    "           '!': '||Exclamation_Mark||',\n",
    "           '?': '||Question_Mark||',\n",
    "           '(': '||Left_Parenthesis||',\n",
    "           ')': '||Right_Parenthesis||',\n",
    "           '--': '||Dash||',\n",
    "           '\\n': '||Return||'}\n",
    "\n",
    "\"\"\"\n",
    "DON'T MODIFY ANYTHING IN THIS CELL THAT IS BELOW THIS LINE\n",
    "\"\"\"\n",
    "tests.test_tokenize(token_lookup)"
   ]
  },
  {
   "cell_type": "markdown",
   "metadata": {
    "deletable": true,
    "editable": true
   },
   "source": [
    "## Preprocess all the data and save it\n",
    "Running the code cell below will preprocess all the data and save it to file."
   ]
  },
  {
   "cell_type": "code",
   "execution_count": 5,
   "metadata": {
    "collapsed": false,
    "deletable": true,
    "editable": true
   },
   "outputs": [],
   "source": [
    "\"\"\"\n",
    "DON'T MODIFY ANYTHING IN THIS CELL\n",
    "\"\"\"\n",
    "# Preprocess Training, Validation, and Testing Data\n",
    "helper.preprocess_and_save_data(data_dir, token_lookup, create_lookup_tables)"
   ]
  },
  {
   "cell_type": "markdown",
   "metadata": {
    "deletable": true,
    "editable": true
   },
   "source": [
    "# Check Point\n",
    "This is your first checkpoint. If you ever decide to come back to this notebook or have to restart the notebook, you can start from here. The preprocessed data has been saved to disk."
   ]
  },
  {
   "cell_type": "code",
   "execution_count": 6,
   "metadata": {
    "collapsed": false,
    "deletable": true,
    "editable": true
   },
   "outputs": [],
   "source": [
    "\"\"\"\n",
    "DON'T MODIFY ANYTHING IN THIS CELL\n",
    "\"\"\"\n",
    "import helper\n",
    "import numpy as np\n",
    "import problem_unittests as tests\n",
    "\n",
    "int_text, vocab_to_int, int_to_vocab, token_dict = helper.load_preprocess()"
   ]
  },
  {
   "cell_type": "markdown",
   "metadata": {
    "deletable": true,
    "editable": true
   },
   "source": [
    "## Build the Neural Network\n",
    "You'll build the components necessary to build a RNN by implementing the following functions below:\n",
    "- get_inputs\n",
    "- get_init_cell\n",
    "- get_embed\n",
    "- build_rnn\n",
    "- build_nn\n",
    "- get_batches\n",
    "\n",
    "### Check the Version of TensorFlow and Access to GPU"
   ]
  },
  {
   "cell_type": "code",
   "execution_count": 7,
   "metadata": {
    "collapsed": false,
    "deletable": true,
    "editable": true
   },
   "outputs": [
    {
     "name": "stdout",
     "output_type": "stream",
     "text": [
      "TensorFlow Version: 1.0.0\n"
     ]
    },
    {
     "name": "stderr",
     "output_type": "stream",
     "text": [
      "/Users/fred/anaconda/lib/python3.6/site-packages/ipykernel_launcher.py:14: UserWarning: No GPU found. Please use a GPU to train your neural network.\n",
      "  \n"
     ]
    }
   ],
   "source": [
    "\"\"\"\n",
    "DON'T MODIFY ANYTHING IN THIS CELL\n",
    "\"\"\"\n",
    "from distutils.version import LooseVersion\n",
    "import warnings\n",
    "import tensorflow as tf\n",
    "\n",
    "# Check TensorFlow Version\n",
    "assert LooseVersion(tf.__version__) >= LooseVersion('1.0'), 'Please use TensorFlow version 1.0 or newer'\n",
    "print('TensorFlow Version: {}'.format(tf.__version__))\n",
    "\n",
    "# Check for a GPU\n",
    "if not tf.test.gpu_device_name():\n",
    "    warnings.warn('No GPU found. Please use a GPU to train your neural network.')\n",
    "else:\n",
    "    print('Default GPU Device: {}'.format(tf.test.gpu_device_name()))"
   ]
  },
  {
   "cell_type": "markdown",
   "metadata": {
    "deletable": true,
    "editable": true
   },
   "source": [
    "### Input\n",
    "Implement the `get_inputs()` function to create TF Placeholders for the Neural Network.  It should create the following placeholders:\n",
    "- Input text placeholder named \"input\" using the [TF Placeholder](https://www.tensorflow.org/api_docs/python/tf/placeholder) `name` parameter.\n",
    "- Targets placeholder\n",
    "- Learning Rate placeholder\n",
    "\n",
    "Return the placeholders in the following tuple `(Input, Targets, LearningRate)`"
   ]
  },
  {
   "cell_type": "code",
   "execution_count": 8,
   "metadata": {
    "collapsed": false,
    "deletable": true,
    "editable": true
   },
   "outputs": [
    {
     "name": "stdout",
     "output_type": "stream",
     "text": [
      "Tests Passed\n"
     ]
    }
   ],
   "source": [
    "def get_inputs():\n",
    "    \"\"\"\n",
    "    Create TF Placeholders for input, targets, and learning rate.\n",
    "    :return: Tuple (input, targets, learning rate)\n",
    "    \"\"\"\n",
    "    # TODO: Implement Function\n",
    "    return (tf.placeholder(tf.int32, [None, None], name='input'),\n",
    "            tf.placeholder(tf.int32, [None, None], name='targets'), \n",
    "            tf.placeholder(tf.float32, name='learning_rate'))\n",
    "\n",
    "\n",
    "\"\"\"\n",
    "DON'T MODIFY ANYTHING IN THIS CELL THAT IS BELOW THIS LINE\n",
    "\"\"\"\n",
    "tests.test_get_inputs(get_inputs)"
   ]
  },
  {
   "cell_type": "markdown",
   "metadata": {
    "deletable": true,
    "editable": true
   },
   "source": [
    "### Build RNN Cell and Initialize\n",
    "Stack one or more [`BasicLSTMCells`](https://www.tensorflow.org/api_docs/python/tf/contrib/rnn/BasicLSTMCell) in a [`MultiRNNCell`](https://www.tensorflow.org/api_docs/python/tf/contrib/rnn/MultiRNNCell).\n",
    "- The Rnn size should be set using `rnn_size`\n",
    "- Initalize Cell State using the MultiRNNCell's [`zero_state()`](https://www.tensorflow.org/api_docs/python/tf/contrib/rnn/MultiRNNCell#zero_state) function\n",
    "    - Apply the name \"initial_state\" to the initial state using [`tf.identity()`](https://www.tensorflow.org/api_docs/python/tf/identity)\n",
    "\n",
    "Return the cell and initial state in the following tuple `(Cell, InitialState)`"
   ]
  },
  {
   "cell_type": "code",
   "execution_count": 9,
   "metadata": {
    "collapsed": false,
    "deletable": true,
    "editable": true
   },
   "outputs": [
    {
     "name": "stdout",
     "output_type": "stream",
     "text": [
      "Tests Passed\n"
     ]
    }
   ],
   "source": [
    "def get_init_cell(batch_size, rnn_size):\n",
    "    \"\"\"\n",
    "    Create an RNN Cell and initialize it.\n",
    "    :param batch_size: Size of batches\n",
    "    :param rnn_size: Size of RNNs\n",
    "    :return: Tuple (cell, initialize state)\n",
    "    \"\"\"\n",
    "\n",
    "    lstm_layer = tf.contrib.rnn.BasicLSTMCell(rnn_size)\n",
    "    stack_lstm = tf.contrib.rnn.MultiRNNCell([lstm_layer]*2)\n",
    "    initial_state = stack_lstm.zero_state(batch_size, tf.float32)\n",
    "    \n",
    "    return stack_lstm, tf.identity(initial_state, name='initial_state')\n",
    "\n",
    "\n",
    "\"\"\"\n",
    "DON'T MODIFY ANYTHING IN THIS CELL THAT IS BELOW THIS LINE\n",
    "\"\"\"\n",
    "tests.test_get_init_cell(get_init_cell)"
   ]
  },
  {
   "cell_type": "markdown",
   "metadata": {
    "deletable": true,
    "editable": true
   },
   "source": [
    "### Word Embedding\n",
    "Apply embedding to `input_data` using TensorFlow.  Return the embedded sequence."
   ]
  },
  {
   "cell_type": "code",
   "execution_count": 10,
   "metadata": {
    "collapsed": false,
    "deletable": true,
    "editable": true
   },
   "outputs": [
    {
     "name": "stdout",
     "output_type": "stream",
     "text": [
      "Tests Passed\n"
     ]
    }
   ],
   "source": [
    "def get_embed(input_data, vocab_size, embed_dim):\n",
    "    \"\"\"\n",
    "    Create embedding for <input_data>.\n",
    "    :param input_data: TF placeholder for text input.\n",
    "    :param vocab_size: Number of words in vocabulary.\n",
    "    :param embed_dim: Number of embedding dimensions\n",
    "    :return: Embedded input.\n",
    "    \"\"\"\n",
    "    \n",
    "    # from Word2Vec lecture\n",
    "    embedding = tf.Variable(tf.random_uniform((vocab_size, embed_dim), -1, 1)) \n",
    "    return tf.nn.embedding_lookup(embedding, input_data)\n",
    "\n",
    "\n",
    "\"\"\"\n",
    "DON'T MODIFY ANYTHING IN THIS CELL THAT IS BELOW THIS LINE\n",
    "\"\"\"\n",
    "tests.test_get_embed(get_embed)"
   ]
  },
  {
   "cell_type": "markdown",
   "metadata": {
    "deletable": true,
    "editable": true
   },
   "source": [
    "### Build RNN\n",
    "You created a RNN Cell in the `get_init_cell()` function.  Time to use the cell to create a RNN.\n",
    "- Build the RNN using the [`tf.nn.dynamic_rnn()`](https://www.tensorflow.org/api_docs/python/tf/nn/dynamic_rnn)\n",
    " - Apply the name \"final_state\" to the final state using [`tf.identity()`](https://www.tensorflow.org/api_docs/python/tf/identity)\n",
    "\n",
    "Return the outputs and final_state state in the following tuple `(Outputs, FinalState)` "
   ]
  },
  {
   "cell_type": "code",
   "execution_count": 11,
   "metadata": {
    "collapsed": false,
    "deletable": true,
    "editable": true
   },
   "outputs": [
    {
     "name": "stdout",
     "output_type": "stream",
     "text": [
      "Tests Passed\n"
     ]
    }
   ],
   "source": [
    "def build_rnn(cell, inputs):\n",
    "    \"\"\"\n",
    "    Create a RNN using a RNN Cell\n",
    "    :param cell: RNN Cell\n",
    "    :param inputs: Input text data\n",
    "    :return: Tuple (Outputs, Final State)\n",
    "    \"\"\"\n",
    "    \n",
    "    # I believe buid_rnn should take a initial state. \n",
    "    # I specified the dtype parameter which is required if no initial state is provided\n",
    "    # I do not plan to use this function in building the network\n",
    "    outputs, state = tf.nn.dynamic_rnn(cell, inputs, dtype=tf.float32)\n",
    "    \n",
    "    return outputs, tf.identity(state, 'final_state')\n",
    "\n",
    "\n",
    "\"\"\"\n",
    "DON'T MODIFY ANYTHING IN THIS CELL THAT IS BELOW THIS LINE\n",
    "\"\"\"\n",
    "tests.test_build_rnn(build_rnn)"
   ]
  },
  {
   "cell_type": "markdown",
   "metadata": {
    "deletable": true,
    "editable": true
   },
   "source": [
    "### Build the Neural Network\n",
    "Apply the functions you implemented above to:\n",
    "- Apply embedding to `input_data` using your `get_embed(input_data, vocab_size, embed_dim)` function.\n",
    "- Build RNN using `cell` and your `build_rnn(cell, inputs)` function.\n",
    "- Apply a fully connected layer with a linear activation and `vocab_size` as the number of outputs.\n",
    "\n",
    "Return the logits and final state in the following tuple (Logits, FinalState) "
   ]
  },
  {
   "cell_type": "code",
   "execution_count": 12,
   "metadata": {
    "collapsed": false,
    "deletable": true,
    "editable": true
   },
   "outputs": [
    {
     "name": "stdout",
     "output_type": "stream",
     "text": [
      "Tests Passed\n"
     ]
    }
   ],
   "source": [
    "def build_nn(cell, rnn_size, input_data, vocab_size, embed_dim):\n",
    "    \"\"\"\n",
    "    Build part of the neural network\n",
    "    :param cell: RNN cell\n",
    "    :param rnn_size: Size of rnns\n",
    "    :param input_data: Input data\n",
    "    :param vocab_size: Vocabulary size\n",
    "    :param embed_dim: Number of embedding dimensions\n",
    "    :return: Tuple (Logits, FinalState)\n",
    "    \"\"\"\n",
    "    \n",
    "    embed = get_embed(input_data, vocab_size, embed_dim)\n",
    "\n",
    "    rnn, final_state = build_rnn(cell, embed)\n",
    "    \n",
    "    logits = tf.contrib.layers.fully_connected(rnn, vocab_size, activation_fn=None)\n",
    "    \n",
    "    return logits, final_state\n",
    "\n",
    "\n",
    "\"\"\"\n",
    "DON'T MODIFY ANYTHING IN THIS CELL THAT IS BELOW THIS LINE\n",
    "\"\"\"\n",
    "tests.test_build_nn(build_nn)"
   ]
  },
  {
   "cell_type": "markdown",
   "metadata": {
    "deletable": true,
    "editable": true
   },
   "source": [
    "### Batches\n",
    "Implement `get_batches` to create batches of input and targets using `int_text`.  The batches should be a Numpy array with the shape `(number of batches, 2, batch size, sequence length)`. Each batch contains two elements:\n",
    "- The first element is a single batch of **input** with the shape `[batch size, sequence length]`\n",
    "- The second element is a single batch of **targets** with the shape `[batch size, sequence length]`\n",
    "\n",
    "If you can't fill the last batch with enough data, drop the last batch.\n",
    "\n",
    "For exmple, `get_batches([1, 2, 3, 4, 5, 6, 7, 8, 9, 10, 11, 12, 13, 14, 15, 16, 17, 18, 19, 20], 3, 2)` would return a Numpy array of the following:\n",
    "```\n",
    "[\n",
    "  # First Batch\n",
    "  [\n",
    "    # Batch of Input\n",
    "    [[ 1  2], [ 7  8], [13 14]]\n",
    "    # Batch of targets\n",
    "    [[ 2  3], [ 8  9], [14 15]]\n",
    "  ]\n",
    "\n",
    "  # Second Batch\n",
    "  [\n",
    "    # Batch of Input\n",
    "    [[ 3  4], [ 9 10], [15 16]]\n",
    "    # Batch of targets\n",
    "    [[ 4  5], [10 11], [16 17]]\n",
    "  ]\n",
    "\n",
    "  # Third Batch\n",
    "  [\n",
    "    # Batch of Input\n",
    "    [[ 5  6], [11 12], [17 18]]\n",
    "    # Batch of targets\n",
    "    [[ 6  7], [12 13], [18  1]]\n",
    "  ]\n",
    "]\n",
    "```\n",
    "\n",
    "Notice that the last target value in the last batch is the first input value of the first batch. In this case, `1`. This is a common technique used when creating sequence batches, although it is rather unintuitive."
   ]
  },
  {
   "cell_type": "code",
   "execution_count": 13,
   "metadata": {
    "collapsed": false,
    "deletable": true,
    "editable": true
   },
   "outputs": [
    {
     "name": "stdout",
     "output_type": "stream",
     "text": [
      "Tests Passed\n"
     ]
    }
   ],
   "source": [
    "def get_batches(int_text, batch_size, seq_length):\n",
    "    \"\"\"\n",
    "    Return batches of input and target\n",
    "    :param int_text: Text with the words replaced by their ids\n",
    "    :param batch_size: The size of batch\n",
    "    :param seq_length: The length of sequence\n",
    "    :return: Batches as a Numpy array\n",
    "    \"\"\"\n",
    "    #  (number of batches, 2, batch size, sequence length). Each batch contains two elements:\n",
    "    # The first element is a single batch of input with the shape [batch size, sequence length]\n",
    "    # The second element is a single batch of targets with the shape [batch size, sequence length]\n",
    "    \n",
    "    # compoute number of full batches\n",
    "    batches_number = len(int_text) // (batch_size * seq_length)\n",
    "    \n",
    "    # remove text beyond last full batch\n",
    "    keep_int_text = np.array(int_text[:(batch_size * batches_number * seq_length)])\n",
    "    \n",
    "    # create target by rolling text by one (as stated in the note above)\n",
    "    target_int_text = np.roll(keep_int_text, -1)\n",
    "    \n",
    "    # get batches organized by columns\n",
    "    column_batches_input = keep_int_text.reshape((batch_size, -1))\n",
    "    column_batches_target = target_int_text.reshape((batch_size, -1))\n",
    "    \n",
    "    # get output\n",
    "    output = np.zeros((batches_number, 2, batch_size, seq_length), dtype=np.int)\n",
    "    \n",
    "    # loop on batches and get the correct columns out of it\n",
    "    for cur_batch in range(0, batches_number):\n",
    "        start_idx = seq_length*cur_batch\n",
    "        end_idx = seq_length * (cur_batch+1)\n",
    "        output[cur_batch, 0, :, :] = column_batches_input[:, start_idx:end_idx]\n",
    "        output[cur_batch, 1, :, :] = column_batches_target[:, start_idx:end_idx]\n",
    "    \n",
    "    return output\n",
    "\n",
    "\n",
    "\"\"\"\n",
    "DON'T MODIFY ANYTHING IN THIS CELL THAT IS BELOW THIS LINE\n",
    "\"\"\"\n",
    "tests.test_get_batches(get_batches)"
   ]
  },
  {
   "cell_type": "markdown",
   "metadata": {
    "deletable": true,
    "editable": true
   },
   "source": [
    "## Neural Network Training\n",
    "### Hyperparameters\n",
    "Tune the following parameters:\n",
    "\n",
    "- Set `num_epochs` to the number of epochs.\n",
    "- Set `batch_size` to the batch size.\n",
    "- Set `rnn_size` to the size of the RNNs.\n",
    "- Set `embed_dim` to the size of the embedding.\n",
    "- Set `seq_length` to the length of sequence.\n",
    "- Set `learning_rate` to the learning rate.\n",
    "- Set `show_every_n_batches` to the number of batches the neural network should print progress."
   ]
  },
  {
   "cell_type": "code",
   "execution_count": 24,
   "metadata": {
    "collapsed": true,
    "deletable": true,
    "editable": true
   },
   "outputs": [],
   "source": [
    "# Number of Epochs\n",
    "num_epochs = 50\n",
    "# Batch Size\n",
    "batch_size = 128\n",
    "# RNN Size\n",
    "rnn_size = 256\n",
    "# Embedding Dimension Size\n",
    "embed_dim = 300\n",
    "# Sequence Length\n",
    "seq_length = 15\n",
    "# Learning Rate\n",
    "learning_rate = 0.001\n",
    "# Show stats for every n number of batches\n",
    "show_every_n_batches = 5\n",
    "\n",
    "\n",
    "#epo, bat,  rnn, se, lnrat\n",
    "#100, 128,  512, 16, 0.001 --> train_loss = 1.225\n",
    "#100, 128, 1024, 16, 0.001 --> train_loss = 1.532\n",
    "#100,  64, 1024, 16, 0.001 --> train_loss = 0.825\n",
    "#200,  64, 1024, 16, 0.001 --> train_loss = 0.221 @ epoch 93\n",
    "# 50,  64, 1024, 16, 0.001 --> train_loss = 0.235\n",
    "# 50, 128,  256, 15, 0.001 --> train_loss = 3.880\n",
    "\n",
    "\n",
    "\"\"\"\n",
    "DON'T MODIFY ANYTHING IN THIS CELL THAT IS BELOW THIS LINE\n",
    "\"\"\"\n",
    "save_dir = './save'"
   ]
  },
  {
   "cell_type": "markdown",
   "metadata": {
    "deletable": true,
    "editable": true
   },
   "source": [
    "### Build the Graph\n",
    "Build the graph using the neural network you implemented."
   ]
  },
  {
   "cell_type": "code",
   "execution_count": 25,
   "metadata": {
    "collapsed": false,
    "deletable": true,
    "editable": true
   },
   "outputs": [],
   "source": [
    "\"\"\"\n",
    "DON'T MODIFY ANYTHING IN THIS CELL\n",
    "\"\"\"\n",
    "from tensorflow.contrib import seq2seq\n",
    "\n",
    "train_graph = tf.Graph()\n",
    "with train_graph.as_default():\n",
    "    vocab_size = len(int_to_vocab)\n",
    "    input_text, targets, lr = get_inputs()\n",
    "    input_data_shape = tf.shape(input_text)\n",
    "    cell, initial_state = get_init_cell(input_data_shape[0], rnn_size)\n",
    "    logits, final_state = build_nn(cell, rnn_size, input_text, vocab_size, embed_dim)\n",
    "\n",
    "    # Probabilities for generating words\n",
    "    probs = tf.nn.softmax(logits, name='probs')\n",
    "\n",
    "    # Loss function\n",
    "    cost = seq2seq.sequence_loss(\n",
    "        logits,\n",
    "        targets,\n",
    "        tf.ones([input_data_shape[0], input_data_shape[1]]))\n",
    "\n",
    "    # Optimizer\n",
    "    optimizer = tf.train.AdamOptimizer(lr)\n",
    "\n",
    "    # Gradient Clipping\n",
    "    gradients = optimizer.compute_gradients(cost)\n",
    "    capped_gradients = [(tf.clip_by_value(grad, -1., 1.), var) for grad, var in gradients if grad is not None]\n",
    "    train_op = optimizer.apply_gradients(capped_gradients)"
   ]
  },
  {
   "cell_type": "markdown",
   "metadata": {
    "deletable": true,
    "editable": true
   },
   "source": [
    "## Train\n",
    "Train the neural network on the preprocessed data.  If you have a hard time getting a good loss, check the [forums](https://discussions.udacity.com/) to see if anyone is having the same problem."
   ]
  },
  {
   "cell_type": "code",
   "execution_count": 26,
   "metadata": {
    "collapsed": false,
    "deletable": true,
    "editable": true
   },
   "outputs": [
    {
     "name": "stdout",
     "output_type": "stream",
     "text": [
      "Epoch   0 Batch    0/35   train_loss = 8.821\n",
      "Epoch   0 Batch    5/35   train_loss = 8.467\n",
      "Epoch   0 Batch   10/35   train_loss = 7.212\n",
      "Epoch   0 Batch   15/35   train_loss = 6.482\n",
      "Epoch   0 Batch   20/35   train_loss = 6.391\n",
      "Epoch   0 Batch   25/35   train_loss = 6.307\n",
      "Epoch   0 Batch   30/35   train_loss = 6.313\n",
      "Epoch   1 Batch    0/35   train_loss = 6.246\n",
      "Epoch   1 Batch    5/35   train_loss = 6.208\n",
      "Epoch   1 Batch   10/35   train_loss = 6.158\n",
      "Epoch   1 Batch   15/35   train_loss = 6.124\n",
      "Epoch   1 Batch   20/35   train_loss = 6.142\n",
      "Epoch   1 Batch   25/35   train_loss = 6.034\n",
      "Epoch   1 Batch   30/35   train_loss = 6.106\n",
      "Epoch   2 Batch    0/35   train_loss = 6.075\n",
      "Epoch   2 Batch    5/35   train_loss = 6.067\n",
      "Epoch   2 Batch   10/35   train_loss = 6.123\n",
      "Epoch   2 Batch   15/35   train_loss = 6.124\n",
      "Epoch   2 Batch   20/35   train_loss = 6.120\n",
      "Epoch   2 Batch   25/35   train_loss = 5.987\n",
      "Epoch   2 Batch   30/35   train_loss = 6.045\n",
      "Epoch   3 Batch    0/35   train_loss = 6.022\n",
      "Epoch   3 Batch    5/35   train_loss = 6.026\n",
      "Epoch   3 Batch   10/35   train_loss = 6.097\n",
      "Epoch   3 Batch   15/35   train_loss = 6.104\n",
      "Epoch   3 Batch   20/35   train_loss = 6.106\n",
      "Epoch   3 Batch   25/35   train_loss = 5.966\n",
      "Epoch   3 Batch   30/35   train_loss = 6.021\n",
      "Epoch   4 Batch    0/35   train_loss = 6.001\n",
      "Epoch   4 Batch    5/35   train_loss = 6.005\n",
      "Epoch   4 Batch   10/35   train_loss = 6.083\n",
      "Epoch   4 Batch   15/35   train_loss = 6.088\n",
      "Epoch   4 Batch   20/35   train_loss = 6.094\n",
      "Epoch   4 Batch   25/35   train_loss = 5.957\n",
      "Epoch   4 Batch   30/35   train_loss = 6.006\n",
      "Epoch   5 Batch    0/35   train_loss = 5.988\n",
      "Epoch   5 Batch    5/35   train_loss = 5.990\n",
      "Epoch   5 Batch   10/35   train_loss = 6.073\n",
      "Epoch   5 Batch   15/35   train_loss = 6.076\n",
      "Epoch   5 Batch   20/35   train_loss = 6.084\n",
      "Epoch   5 Batch   25/35   train_loss = 5.946\n",
      "Epoch   5 Batch   30/35   train_loss = 5.994\n",
      "Epoch   6 Batch    0/35   train_loss = 5.979\n",
      "Epoch   6 Batch    5/35   train_loss = 5.980\n",
      "Epoch   6 Batch   10/35   train_loss = 6.066\n",
      "Epoch   6 Batch   15/35   train_loss = 6.065\n",
      "Epoch   6 Batch   20/35   train_loss = 6.073\n",
      "Epoch   6 Batch   25/35   train_loss = 5.941\n",
      "Epoch   6 Batch   30/35   train_loss = 5.984\n",
      "Epoch   7 Batch    0/35   train_loss = 5.971\n",
      "Epoch   7 Batch    5/35   train_loss = 5.970\n",
      "Epoch   7 Batch   10/35   train_loss = 6.060\n",
      "Epoch   7 Batch   15/35   train_loss = 6.059\n",
      "Epoch   7 Batch   20/35   train_loss = 6.067\n",
      "Epoch   7 Batch   25/35   train_loss = 5.930\n",
      "Epoch   7 Batch   30/35   train_loss = 5.974\n",
      "Epoch   8 Batch    0/35   train_loss = 5.961\n",
      "Epoch   8 Batch    5/35   train_loss = 5.959\n",
      "Epoch   8 Batch   10/35   train_loss = 6.046\n",
      "Epoch   8 Batch   15/35   train_loss = 6.042\n",
      "Epoch   8 Batch   20/35   train_loss = 6.049\n",
      "Epoch   8 Batch   25/35   train_loss = 5.916\n",
      "Epoch   8 Batch   30/35   train_loss = 5.956\n",
      "Epoch   9 Batch    0/35   train_loss = 5.941\n",
      "Epoch   9 Batch    5/35   train_loss = 5.937\n",
      "Epoch   9 Batch   10/35   train_loss = 6.023\n",
      "Epoch   9 Batch   15/35   train_loss = 6.018\n",
      "Epoch   9 Batch   20/35   train_loss = 6.026\n",
      "Epoch   9 Batch   25/35   train_loss = 5.882\n",
      "Epoch   9 Batch   30/35   train_loss = 5.932\n",
      "Epoch  10 Batch    0/35   train_loss = 5.910\n",
      "Epoch  10 Batch    5/35   train_loss = 5.897\n",
      "Epoch  10 Batch   10/35   train_loss = 5.981\n",
      "Epoch  10 Batch   15/35   train_loss = 5.975\n",
      "Epoch  10 Batch   20/35   train_loss = 5.984\n",
      "Epoch  10 Batch   25/35   train_loss = 5.839\n",
      "Epoch  10 Batch   30/35   train_loss = 5.889\n",
      "Epoch  11 Batch    0/35   train_loss = 5.866\n",
      "Epoch  11 Batch    5/35   train_loss = 5.852\n",
      "Epoch  11 Batch   10/35   train_loss = 5.939\n",
      "Epoch  11 Batch   15/35   train_loss = 5.934\n",
      "Epoch  11 Batch   20/35   train_loss = 5.948\n",
      "Epoch  11 Batch   25/35   train_loss = 5.798\n",
      "Epoch  11 Batch   30/35   train_loss = 5.852\n",
      "Epoch  12 Batch    0/35   train_loss = 5.828\n",
      "Epoch  12 Batch    5/35   train_loss = 5.813\n",
      "Epoch  12 Batch   10/35   train_loss = 5.902\n",
      "Epoch  12 Batch   15/35   train_loss = 5.899\n",
      "Epoch  12 Batch   20/35   train_loss = 5.916\n",
      "Epoch  12 Batch   25/35   train_loss = 5.764\n",
      "Epoch  12 Batch   30/35   train_loss = 5.820\n",
      "Epoch  13 Batch    0/35   train_loss = 5.795\n",
      "Epoch  13 Batch    5/35   train_loss = 5.777\n",
      "Epoch  13 Batch   10/35   train_loss = 5.870\n",
      "Epoch  13 Batch   15/35   train_loss = 5.869\n",
      "Epoch  13 Batch   20/35   train_loss = 5.887\n",
      "Epoch  13 Batch   25/35   train_loss = 5.732\n",
      "Epoch  13 Batch   30/35   train_loss = 5.791\n",
      "Epoch  14 Batch    0/35   train_loss = 5.763\n",
      "Epoch  14 Batch    5/35   train_loss = 5.744\n",
      "Epoch  14 Batch   10/35   train_loss = 5.837\n",
      "Epoch  14 Batch   15/35   train_loss = 5.837\n",
      "Epoch  14 Batch   20/35   train_loss = 5.857\n",
      "Epoch  14 Batch   25/35   train_loss = 5.696\n",
      "Epoch  14 Batch   30/35   train_loss = 5.756\n",
      "Epoch  15 Batch    0/35   train_loss = 5.730\n",
      "Epoch  15 Batch    5/35   train_loss = 5.708\n",
      "Epoch  15 Batch   10/35   train_loss = 5.803\n",
      "Epoch  15 Batch   15/35   train_loss = 5.805\n",
      "Epoch  15 Batch   20/35   train_loss = 5.831\n",
      "Epoch  15 Batch   25/35   train_loss = 5.668\n",
      "Epoch  15 Batch   30/35   train_loss = 5.723\n",
      "Epoch  16 Batch    0/35   train_loss = 5.701\n",
      "Epoch  16 Batch    5/35   train_loss = 5.675\n",
      "Epoch  16 Batch   10/35   train_loss = 5.770\n",
      "Epoch  16 Batch   15/35   train_loss = 5.775\n",
      "Epoch  16 Batch   20/35   train_loss = 5.801\n",
      "Epoch  16 Batch   25/35   train_loss = 5.631\n",
      "Epoch  16 Batch   30/35   train_loss = 5.694\n",
      "Epoch  17 Batch    0/35   train_loss = 5.667\n",
      "Epoch  17 Batch    5/35   train_loss = 5.641\n",
      "Epoch  17 Batch   10/35   train_loss = 5.737\n",
      "Epoch  17 Batch   15/35   train_loss = 5.743\n",
      "Epoch  17 Batch   20/35   train_loss = 5.770\n",
      "Epoch  17 Batch   25/35   train_loss = 5.595\n",
      "Epoch  17 Batch   30/35   train_loss = 5.662\n",
      "Epoch  18 Batch    0/35   train_loss = 5.633\n",
      "Epoch  18 Batch    5/35   train_loss = 5.605\n",
      "Epoch  18 Batch   10/35   train_loss = 5.703\n",
      "Epoch  18 Batch   15/35   train_loss = 5.713\n",
      "Epoch  18 Batch   20/35   train_loss = 5.740\n",
      "Epoch  18 Batch   25/35   train_loss = 5.562\n",
      "Epoch  18 Batch   30/35   train_loss = 5.632\n",
      "Epoch  19 Batch    0/35   train_loss = 5.603\n",
      "Epoch  19 Batch    5/35   train_loss = 5.572\n",
      "Epoch  19 Batch   10/35   train_loss = 5.676\n",
      "Epoch  19 Batch   15/35   train_loss = 5.684\n",
      "Epoch  19 Batch   20/35   train_loss = 5.714\n",
      "Epoch  19 Batch   25/35   train_loss = 5.531\n",
      "Epoch  19 Batch   30/35   train_loss = 5.605\n",
      "Epoch  20 Batch    0/35   train_loss = 5.574\n",
      "Epoch  20 Batch    5/35   train_loss = 5.541\n",
      "Epoch  20 Batch   10/35   train_loss = 5.648\n",
      "Epoch  20 Batch   15/35   train_loss = 5.657\n",
      "Epoch  20 Batch   20/35   train_loss = 5.686\n",
      "Epoch  20 Batch   25/35   train_loss = 5.500\n",
      "Epoch  20 Batch   30/35   train_loss = 5.576\n",
      "Epoch  21 Batch    0/35   train_loss = 5.544\n",
      "Epoch  21 Batch    5/35   train_loss = 5.510\n",
      "Epoch  21 Batch   10/35   train_loss = 5.614\n",
      "Epoch  21 Batch   15/35   train_loss = 5.617\n",
      "Epoch  21 Batch   20/35   train_loss = 5.644\n",
      "Epoch  21 Batch   25/35   train_loss = 5.459\n",
      "Epoch  21 Batch   30/35   train_loss = 5.534\n",
      "Epoch  22 Batch    0/35   train_loss = 5.495\n",
      "Epoch  22 Batch    5/35   train_loss = 5.463\n",
      "Epoch  22 Batch   10/35   train_loss = 5.568\n",
      "Epoch  22 Batch   15/35   train_loss = 5.565\n",
      "Epoch  22 Batch   20/35   train_loss = 5.594\n",
      "Epoch  22 Batch   25/35   train_loss = 5.402\n",
      "Epoch  22 Batch   30/35   train_loss = 5.466\n",
      "Epoch  23 Batch    0/35   train_loss = 5.429\n",
      "Epoch  23 Batch    5/35   train_loss = 5.390\n",
      "Epoch  23 Batch   10/35   train_loss = 5.496\n",
      "Epoch  23 Batch   15/35   train_loss = 5.485\n",
      "Epoch  23 Batch   20/35   train_loss = 5.509\n",
      "Epoch  23 Batch   25/35   train_loss = 5.306\n",
      "Epoch  23 Batch   30/35   train_loss = 5.374\n",
      "Epoch  24 Batch    0/35   train_loss = 5.340\n",
      "Epoch  24 Batch    5/35   train_loss = 5.286\n",
      "Epoch  24 Batch   10/35   train_loss = 5.397\n",
      "Epoch  24 Batch   15/35   train_loss = 5.380\n",
      "Epoch  24 Batch   20/35   train_loss = 5.400\n",
      "Epoch  24 Batch   25/35   train_loss = 5.195\n",
      "Epoch  24 Batch   30/35   train_loss = 5.271\n",
      "Epoch  25 Batch    0/35   train_loss = 5.242\n",
      "Epoch  25 Batch    5/35   train_loss = 5.183\n",
      "Epoch  25 Batch   10/35   train_loss = 5.296\n",
      "Epoch  25 Batch   15/35   train_loss = 5.278\n",
      "Epoch  25 Batch   20/35   train_loss = 5.297\n",
      "Epoch  25 Batch   25/35   train_loss = 5.095\n",
      "Epoch  25 Batch   30/35   train_loss = 5.166\n",
      "Epoch  26 Batch    0/35   train_loss = 5.143\n",
      "Epoch  26 Batch    5/35   train_loss = 5.076\n",
      "Epoch  26 Batch   10/35   train_loss = 5.191\n",
      "Epoch  26 Batch   15/35   train_loss = 5.178\n",
      "Epoch  26 Batch   20/35   train_loss = 5.180\n",
      "Epoch  26 Batch   25/35   train_loss = 4.995\n",
      "Epoch  26 Batch   30/35   train_loss = 5.067\n",
      "Epoch  27 Batch    0/35   train_loss = 5.048\n",
      "Epoch  27 Batch    5/35   train_loss = 4.978\n",
      "Epoch  27 Batch   10/35   train_loss = 5.096\n",
      "Epoch  27 Batch   15/35   train_loss = 5.089\n",
      "Epoch  27 Batch   20/35   train_loss = 5.087\n",
      "Epoch  27 Batch   25/35   train_loss = 4.910\n",
      "Epoch  27 Batch   30/35   train_loss = 4.980\n",
      "Epoch  28 Batch    0/35   train_loss = 4.971\n",
      "Epoch  28 Batch    5/35   train_loss = 4.895\n",
      "Epoch  28 Batch   10/35   train_loss = 5.011\n",
      "Epoch  28 Batch   15/35   train_loss = 5.013\n",
      "Epoch  28 Batch   20/35   train_loss = 4.995\n",
      "Epoch  28 Batch   25/35   train_loss = 4.828\n",
      "Epoch  28 Batch   30/35   train_loss = 4.897\n",
      "Epoch  29 Batch    0/35   train_loss = 4.892\n",
      "Epoch  29 Batch    5/35   train_loss = 4.813\n",
      "Epoch  29 Batch   10/35   train_loss = 4.936\n",
      "Epoch  29 Batch   15/35   train_loss = 4.944\n",
      "Epoch  29 Batch   20/35   train_loss = 4.921\n",
      "Epoch  29 Batch   25/35   train_loss = 4.763\n",
      "Epoch  29 Batch   30/35   train_loss = 4.827\n",
      "Epoch  30 Batch    0/35   train_loss = 4.822\n",
      "Epoch  30 Batch    5/35   train_loss = 4.743\n",
      "Epoch  30 Batch   10/35   train_loss = 4.860\n",
      "Epoch  30 Batch   15/35   train_loss = 4.865\n",
      "Epoch  30 Batch   20/35   train_loss = 4.844\n",
      "Epoch  30 Batch   25/35   train_loss = 4.702\n",
      "Epoch  30 Batch   30/35   train_loss = 4.767\n",
      "Epoch  31 Batch    0/35   train_loss = 4.767\n",
      "Epoch  31 Batch    5/35   train_loss = 4.692\n",
      "Epoch  31 Batch   10/35   train_loss = 4.806\n",
      "Epoch  31 Batch   15/35   train_loss = 4.811\n",
      "Epoch  31 Batch   20/35   train_loss = 4.788\n",
      "Epoch  31 Batch   25/35   train_loss = 4.655\n",
      "Epoch  31 Batch   30/35   train_loss = 4.720\n",
      "Epoch  32 Batch    0/35   train_loss = 4.715\n",
      "Epoch  32 Batch    5/35   train_loss = 4.628\n",
      "Epoch  32 Batch   10/35   train_loss = 4.737\n",
      "Epoch  32 Batch   15/35   train_loss = 4.755\n",
      "Epoch  32 Batch   20/35   train_loss = 4.726\n",
      "Epoch  32 Batch   25/35   train_loss = 4.580\n",
      "Epoch  32 Batch   30/35   train_loss = 4.646\n",
      "Epoch  33 Batch    0/35   train_loss = 4.644\n",
      "Epoch  33 Batch    5/35   train_loss = 4.560\n",
      "Epoch  33 Batch   10/35   train_loss = 4.679\n",
      "Epoch  33 Batch   15/35   train_loss = 4.703\n",
      "Epoch  33 Batch   20/35   train_loss = 4.665\n",
      "Epoch  33 Batch   25/35   train_loss = 4.522\n",
      "Epoch  33 Batch   30/35   train_loss = 4.587\n",
      "Epoch  34 Batch    0/35   train_loss = 4.588\n",
      "Epoch  34 Batch    5/35   train_loss = 4.509\n",
      "Epoch  34 Batch   10/35   train_loss = 4.630\n",
      "Epoch  34 Batch   15/35   train_loss = 4.643\n",
      "Epoch  34 Batch   20/35   train_loss = 4.602\n",
      "Epoch  34 Batch   25/35   train_loss = 4.468\n",
      "Epoch  34 Batch   30/35   train_loss = 4.545\n",
      "Epoch  35 Batch    0/35   train_loss = 4.543\n",
      "Epoch  35 Batch    5/35   train_loss = 4.451\n",
      "Epoch  35 Batch   10/35   train_loss = 4.567\n",
      "Epoch  35 Batch   15/35   train_loss = 4.582\n",
      "Epoch  35 Batch   20/35   train_loss = 4.549\n",
      "Epoch  35 Batch   25/35   train_loss = 4.413\n",
      "Epoch  35 Batch   30/35   train_loss = 4.491\n",
      "Epoch  36 Batch    0/35   train_loss = 4.491\n",
      "Epoch  36 Batch    5/35   train_loss = 4.401\n",
      "Epoch  36 Batch   10/35   train_loss = 4.524\n",
      "Epoch  36 Batch   15/35   train_loss = 4.538\n",
      "Epoch  36 Batch   20/35   train_loss = 4.505\n",
      "Epoch  36 Batch   25/35   train_loss = 4.368\n",
      "Epoch  36 Batch   30/35   train_loss = 4.435\n",
      "Epoch  37 Batch    0/35   train_loss = 4.441\n",
      "Epoch  37 Batch    5/35   train_loss = 4.353\n",
      "Epoch  37 Batch   10/35   train_loss = 4.474\n",
      "Epoch  37 Batch   15/35   train_loss = 4.482\n",
      "Epoch  37 Batch   20/35   train_loss = 4.443\n",
      "Epoch  37 Batch   25/35   train_loss = 4.308\n",
      "Epoch  37 Batch   30/35   train_loss = 4.379\n",
      "Epoch  38 Batch    0/35   train_loss = 4.385\n",
      "Epoch  38 Batch    5/35   train_loss = 4.295\n",
      "Epoch  38 Batch   10/35   train_loss = 4.418\n",
      "Epoch  38 Batch   15/35   train_loss = 4.433\n",
      "Epoch  38 Batch   20/35   train_loss = 4.394\n",
      "Epoch  38 Batch   25/35   train_loss = 4.264\n",
      "Epoch  38 Batch   30/35   train_loss = 4.341\n",
      "Epoch  39 Batch    0/35   train_loss = 4.354\n",
      "Epoch  39 Batch    5/35   train_loss = 4.253\n",
      "Epoch  39 Batch   10/35   train_loss = 4.376\n",
      "Epoch  39 Batch   15/35   train_loss = 4.390\n",
      "Epoch  39 Batch   20/35   train_loss = 4.340\n",
      "Epoch  39 Batch   25/35   train_loss = 4.213\n",
      "Epoch  39 Batch   30/35   train_loss = 4.288\n",
      "Epoch  40 Batch    0/35   train_loss = 4.295\n",
      "Epoch  40 Batch    5/35   train_loss = 4.201\n",
      "Epoch  40 Batch   10/35   train_loss = 4.320\n",
      "Epoch  40 Batch   15/35   train_loss = 4.339\n",
      "Epoch  40 Batch   20/35   train_loss = 4.295\n",
      "Epoch  40 Batch   25/35   train_loss = 4.180\n",
      "Epoch  40 Batch   30/35   train_loss = 4.246\n",
      "Epoch  41 Batch    0/35   train_loss = 4.247\n",
      "Epoch  41 Batch    5/35   train_loss = 4.148\n",
      "Epoch  41 Batch   10/35   train_loss = 4.266\n",
      "Epoch  41 Batch   15/35   train_loss = 4.292\n",
      "Epoch  41 Batch   20/35   train_loss = 4.247\n",
      "Epoch  41 Batch   25/35   train_loss = 4.139\n",
      "Epoch  41 Batch   30/35   train_loss = 4.206\n",
      "Epoch  42 Batch    0/35   train_loss = 4.206\n",
      "Epoch  42 Batch    5/35   train_loss = 4.107\n",
      "Epoch  42 Batch   10/35   train_loss = 4.226\n",
      "Epoch  42 Batch   15/35   train_loss = 4.247\n",
      "Epoch  42 Batch   20/35   train_loss = 4.188\n",
      "Epoch  42 Batch   25/35   train_loss = 4.089\n",
      "Epoch  42 Batch   30/35   train_loss = 4.169\n",
      "Epoch  43 Batch    0/35   train_loss = 4.175\n",
      "Epoch  43 Batch    5/35   train_loss = 4.095\n",
      "Epoch  43 Batch   10/35   train_loss = 4.200\n",
      "Epoch  43 Batch   15/35   train_loss = 4.203\n",
      "Epoch  43 Batch   20/35   train_loss = 4.145\n",
      "Epoch  43 Batch   25/35   train_loss = 4.043\n",
      "Epoch  43 Batch   30/35   train_loss = 4.124\n",
      "Epoch  44 Batch    0/35   train_loss = 4.116\n",
      "Epoch  44 Batch    5/35   train_loss = 4.043\n",
      "Epoch  44 Batch   10/35   train_loss = 4.164\n",
      "Epoch  44 Batch   15/35   train_loss = 4.175\n",
      "Epoch  44 Batch   20/35   train_loss = 4.121\n",
      "Epoch  44 Batch   25/35   train_loss = 3.999\n",
      "Epoch  44 Batch   30/35   train_loss = 4.080\n",
      "Epoch  45 Batch    0/35   train_loss = 4.097\n",
      "Epoch  45 Batch    5/35   train_loss = 4.016\n",
      "Epoch  45 Batch   10/35   train_loss = 4.103\n",
      "Epoch  45 Batch   15/35   train_loss = 4.136\n",
      "Epoch  45 Batch   20/35   train_loss = 4.085\n",
      "Epoch  45 Batch   25/35   train_loss = 3.982\n",
      "Epoch  45 Batch   30/35   train_loss = 4.027\n",
      "Epoch  46 Batch    0/35   train_loss = 4.029\n",
      "Epoch  46 Batch    5/35   train_loss = 3.960\n",
      "Epoch  46 Batch   10/35   train_loss = 4.089\n",
      "Epoch  46 Batch   15/35   train_loss = 4.103\n",
      "Epoch  46 Batch   20/35   train_loss = 4.005\n",
      "Epoch  46 Batch   25/35   train_loss = 3.932\n",
      "Epoch  46 Batch   30/35   train_loss = 4.008\n",
      "Epoch  47 Batch    0/35   train_loss = 4.008\n",
      "Epoch  47 Batch    5/35   train_loss = 3.915\n",
      "Epoch  47 Batch   10/35   train_loss = 4.018\n",
      "Epoch  47 Batch   15/35   train_loss = 4.028\n",
      "Epoch  47 Batch   20/35   train_loss = 3.986\n",
      "Epoch  47 Batch   25/35   train_loss = 3.901\n",
      "Epoch  47 Batch   30/35   train_loss = 3.964\n",
      "Epoch  48 Batch    0/35   train_loss = 3.955\n",
      "Epoch  48 Batch    5/35   train_loss = 3.878\n",
      "Epoch  48 Batch   10/35   train_loss = 3.993\n",
      "Epoch  48 Batch   15/35   train_loss = 4.006\n",
      "Epoch  48 Batch   20/35   train_loss = 3.965\n",
      "Epoch  48 Batch   25/35   train_loss = 3.834\n",
      "Epoch  48 Batch   30/35   train_loss = 3.920\n",
      "Epoch  49 Batch    0/35   train_loss = 3.927\n",
      "Epoch  49 Batch    5/35   train_loss = 3.873\n",
      "Epoch  49 Batch   10/35   train_loss = 3.942\n",
      "Epoch  49 Batch   15/35   train_loss = 3.971\n",
      "Epoch  49 Batch   20/35   train_loss = 3.908\n",
      "Epoch  49 Batch   25/35   train_loss = 3.818\n",
      "Epoch  49 Batch   30/35   train_loss = 3.880\n",
      "Model Trained and Saved\n"
     ]
    }
   ],
   "source": [
    "\"\"\"\n",
    "DON'T MODIFY ANYTHING IN THIS CELL\n",
    "\"\"\"\n",
    "batches = get_batches(int_text, batch_size, seq_length)\n",
    "\n",
    "with tf.Session(graph=train_graph) as sess:\n",
    "    sess.run(tf.global_variables_initializer())\n",
    "\n",
    "    for epoch_i in range(num_epochs):\n",
    "        state = sess.run(initial_state, {input_text: batches[0][0]})\n",
    "\n",
    "        for batch_i, (x, y) in enumerate(batches):\n",
    "            feed = {\n",
    "                input_text: x,\n",
    "                targets: y,\n",
    "                initial_state: state,\n",
    "                lr: learning_rate}\n",
    "            train_loss, state, _ = sess.run([cost, final_state, train_op], feed)\n",
    "\n",
    "            # Show every <show_every_n_batches> batches\n",
    "            if (epoch_i * len(batches) + batch_i) % show_every_n_batches == 0:\n",
    "                print('Epoch {:>3} Batch {:>4}/{}   train_loss = {:.3f}'.format(\n",
    "                    epoch_i,\n",
    "                    batch_i,\n",
    "                    len(batches),\n",
    "                    train_loss))\n",
    "\n",
    "    # Save Model\n",
    "    saver = tf.train.Saver()\n",
    "    saver.save(sess, save_dir)\n",
    "    print('Model Trained and Saved')"
   ]
  },
  {
   "cell_type": "markdown",
   "metadata": {
    "deletable": true,
    "editable": true
   },
   "source": [
    "## Save Parameters\n",
    "Save `seq_length` and `save_dir` for generating a new TV script."
   ]
  },
  {
   "cell_type": "code",
   "execution_count": null,
   "metadata": {
    "collapsed": false,
    "deletable": true,
    "editable": true
   },
   "outputs": [],
   "source": [
    "\"\"\"\n",
    "DON'T MODIFY ANYTHING IN THIS CELL\n",
    "\"\"\"\n",
    "# Save parameters for checkpoint\n",
    "helper.save_params((seq_length, save_dir))"
   ]
  },
  {
   "cell_type": "markdown",
   "metadata": {
    "deletable": true,
    "editable": true
   },
   "source": [
    "# Checkpoint"
   ]
  },
  {
   "cell_type": "code",
   "execution_count": null,
   "metadata": {
    "collapsed": false,
    "deletable": true,
    "editable": true
   },
   "outputs": [],
   "source": [
    "\"\"\"\n",
    "DON'T MODIFY ANYTHING IN THIS CELL\n",
    "\"\"\"\n",
    "import tensorflow as tf\n",
    "import numpy as np\n",
    "import helper\n",
    "import problem_unittests as tests\n",
    "\n",
    "_, vocab_to_int, int_to_vocab, token_dict = helper.load_preprocess()\n",
    "seq_length, load_dir = helper.load_params()"
   ]
  },
  {
   "cell_type": "markdown",
   "metadata": {
    "deletable": true,
    "editable": true
   },
   "source": [
    "## Implement Generate Functions\n",
    "### Get Tensors\n",
    "Get tensors from `loaded_graph` using the function [`get_tensor_by_name()`](https://www.tensorflow.org/api_docs/python/tf/Graph#get_tensor_by_name).  Get the tensors using the following names:\n",
    "- \"input:0\"\n",
    "- \"initial_state:0\"\n",
    "- \"final_state:0\"\n",
    "- \"probs:0\"\n",
    "\n",
    "Return the tensors in the following tuple `(InputTensor, InitialStateTensor, FinalStateTensor, ProbsTensor)` "
   ]
  },
  {
   "cell_type": "code",
   "execution_count": null,
   "metadata": {
    "collapsed": false,
    "deletable": true,
    "editable": true
   },
   "outputs": [],
   "source": [
    "def get_tensors(loaded_graph):\n",
    "    \"\"\"\n",
    "    Get input, initial state, final state, and probabilities tensor from <loaded_graph>\n",
    "    :param loaded_graph: TensorFlow graph loaded from file\n",
    "    :return: Tuple (InputTensor, InitialStateTensor, FinalStateTensor, ProbsTensor)\n",
    "    \"\"\"\n",
    "    # TODO: Implement Function\n",
    "    return None, None, None, None\n",
    "\n",
    "\n",
    "\"\"\"\n",
    "DON'T MODIFY ANYTHING IN THIS CELL THAT IS BELOW THIS LINE\n",
    "\"\"\"\n",
    "tests.test_get_tensors(get_tensors)"
   ]
  },
  {
   "cell_type": "markdown",
   "metadata": {
    "deletable": true,
    "editable": true
   },
   "source": [
    "### Choose Word\n",
    "Implement the `pick_word()` function to select the next word using `probabilities`."
   ]
  },
  {
   "cell_type": "code",
   "execution_count": null,
   "metadata": {
    "collapsed": false,
    "deletable": true,
    "editable": true
   },
   "outputs": [],
   "source": [
    "def pick_word(probabilities, int_to_vocab):\n",
    "    \"\"\"\n",
    "    Pick the next word in the generated text\n",
    "    :param probabilities: Probabilites of the next word\n",
    "    :param int_to_vocab: Dictionary of word ids as the keys and words as the values\n",
    "    :return: String of the predicted word\n",
    "    \"\"\"\n",
    "    # TODO: Implement Function\n",
    "    return None\n",
    "\n",
    "\n",
    "\"\"\"\n",
    "DON'T MODIFY ANYTHING IN THIS CELL THAT IS BELOW THIS LINE\n",
    "\"\"\"\n",
    "tests.test_pick_word(pick_word)"
   ]
  },
  {
   "cell_type": "markdown",
   "metadata": {
    "deletable": true,
    "editable": true
   },
   "source": [
    "## Generate TV Script\n",
    "This will generate the TV script for you.  Set `gen_length` to the length of TV script you want to generate."
   ]
  },
  {
   "cell_type": "code",
   "execution_count": null,
   "metadata": {
    "collapsed": false,
    "deletable": true,
    "editable": true
   },
   "outputs": [],
   "source": [
    "gen_length = 200\n",
    "# homer_simpson, moe_szyslak, or Barney_Gumble\n",
    "prime_word = 'moe_szyslak'\n",
    "\n",
    "\"\"\"\n",
    "DON'T MODIFY ANYTHING IN THIS CELL THAT IS BELOW THIS LINE\n",
    "\"\"\"\n",
    "loaded_graph = tf.Graph()\n",
    "with tf.Session(graph=loaded_graph) as sess:\n",
    "    # Load saved model\n",
    "    loader = tf.train.import_meta_graph(load_dir + '.meta')\n",
    "    loader.restore(sess, load_dir)\n",
    "\n",
    "    # Get Tensors from loaded model\n",
    "    input_text, initial_state, final_state, probs = get_tensors(loaded_graph)\n",
    "\n",
    "    # Sentences generation setup\n",
    "    gen_sentences = [prime_word + ':']\n",
    "    prev_state = sess.run(initial_state, {input_text: np.array([[1]])})\n",
    "\n",
    "    # Generate sentences\n",
    "    for n in range(gen_length):\n",
    "        # Dynamic Input\n",
    "        dyn_input = [[vocab_to_int[word] for word in gen_sentences[-seq_length:]]]\n",
    "        dyn_seq_length = len(dyn_input[0])\n",
    "\n",
    "        # Get Prediction\n",
    "        probabilities, prev_state = sess.run(\n",
    "            [probs, final_state],\n",
    "            {input_text: dyn_input, initial_state: prev_state})\n",
    "        \n",
    "        pred_word = pick_word(probabilities[dyn_seq_length-1], int_to_vocab)\n",
    "\n",
    "        gen_sentences.append(pred_word)\n",
    "    \n",
    "    # Remove tokens\n",
    "    tv_script = ' '.join(gen_sentences)\n",
    "    for key, token in token_dict.items():\n",
    "        ending = ' ' if key in ['\\n', '(', '\"'] else ''\n",
    "        tv_script = tv_script.replace(' ' + token.lower(), key)\n",
    "    tv_script = tv_script.replace('\\n ', '\\n')\n",
    "    tv_script = tv_script.replace('( ', '(')\n",
    "        \n",
    "    print(tv_script)"
   ]
  },
  {
   "cell_type": "markdown",
   "metadata": {
    "deletable": true,
    "editable": true
   },
   "source": [
    "# The TV Script is Nonsensical\n",
    "It's ok if the TV script doesn't make any sense.  We trained on less than a megabyte of text.  In order to get good results, you'll have to use a smaller vocabulary or get more data.  Luckly there's more data!  As we mentioned in the begging of this project, this is a subset of [another dataset](https://www.kaggle.com/wcukierski/the-simpsons-by-the-data).  We didn't have you train on all the data, because that would take too long.  However, you are free to train your neural network on all the data.  After you complete the project, of course.\n",
    "# Submitting This Project\n",
    "When submitting this project, make sure to run all the cells before saving the notebook. Save the notebook file as \"dlnd_tv_script_generation.ipynb\" and save it as a HTML file under \"File\" -> \"Download as\". Include the \"helper.py\" and \"problem_unittests.py\" files in your submission."
   ]
  }
 ],
 "metadata": {
  "kernelspec": {
   "display_name": "Python 3",
   "language": "python",
   "name": "python3"
  },
  "language_info": {
   "codemirror_mode": {
    "name": "ipython",
    "version": 3
   },
   "file_extension": ".py",
   "mimetype": "text/x-python",
   "name": "python",
   "nbconvert_exporter": "python",
   "pygments_lexer": "ipython3",
   "version": "3.6.1"
  },
  "widgets": {
   "state": {},
   "version": "1.1.2"
  }
 },
 "nbformat": 4,
 "nbformat_minor": 0
}
